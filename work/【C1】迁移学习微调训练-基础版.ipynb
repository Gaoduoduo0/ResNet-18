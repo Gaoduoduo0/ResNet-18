{
 "cells": [
  {
   "cell_type": "markdown",
   "id": "4a36abc9-47b6-4e9a-8d2c-330e64012db2",
   "metadata": {},
   "source": [
    "# 迁移学习微调训练图像分类模型"
   ]
  },
  {
   "cell_type": "markdown",
   "id": "36d59cc6-c7c9-46d6-a5d2-d5da1d7ed4bc",
   "metadata": {},
   "source": [
    "## 设置matplotlib中文字体"
   ]
  },
  {
   "cell_type": "code",
   "execution_count": 1,
   "id": "981d43b0-08f2-4c00-973c-071a7c7205e4",
   "metadata": {},
   "outputs": [],
   "source": [
    "# # windows操作系统\n",
    "# plt.rcParams['font.sans-serif']=['SimHei']  # 用来正常显示中文标签 \n",
    "# plt.rcParams['axes.unicode_minus']=False  # 用来正常显示负号"
   ]
  },
  {
   "cell_type": "code",
   "execution_count": 2,
   "id": "9065b0da-f63f-4915-bae1-7fd9c729af4c",
   "metadata": {},
   "outputs": [],
   "source": [
    "# Mac操作系统，参考 https://www.ngui.cc/51cto/show-727683.html\n",
    "# 下载 simhei.ttf 字体文件\n",
    "# !wget https://zihao-openmmlab.obs.cn-east-3.myhuaweicloud.com/20220716-mmclassification/dataset/SimHei.ttf"
   ]
  },
  {
   "cell_type": "code",
   "execution_count": 1,
   "id": "c680af5c-d54b-45d2-90f8-04554da4d7d3",
   "metadata": {},
   "outputs": [
    {
     "name": "stdout",
     "output_type": "stream",
     "text": [
      "--2025-06-22 19:47:27--  https://zihao-openmmlab.obs.cn-east-3.myhuaweicloud.com/20220716-mmclassification/dataset/SimHei.ttf\n",
      "正在连接 172.16.0.13:5848... 已连接。\n",
      "已发出 Proxy 请求，正在等待回应... 200 OK\n",
      "长度： 10050868 (9.6M) [application/x-font-ttf]\n",
      "正在保存至: “/environment/miniconda3/lib/python3.7/site-packages/matplotlib/mpl-data/fonts/ttf/SimHei.ttf”\n",
      "\n",
      "/environment/minico 100%[===================>]   9.58M  19.9MB/s    用时 0.5s    \n",
      "\n",
      "2025-06-22 19:47:28 (19.9 MB/s) - 已保存 “/environment/miniconda3/lib/python3.7/site-packages/matplotlib/mpl-data/fonts/ttf/SimHei.ttf” [10050868/10050868])\n",
      "\n"
     ]
    }
   ],
   "source": [
    "# Linux操作系统，例如 云GPU平台：https://featurize.cn/?s=d7ce99f842414bfcaea5662a97581bd1\n",
    "# 如果遇到 SSL 相关报错，重新运行本代码块即可\n",
    "!wget https://zihao-openmmlab.obs.cn-east-3.myhuaweicloud.com/20220716-mmclassification/dataset/SimHei.ttf -O /environment/miniconda3/lib/python3.7/site-packages/matplotlib/mpl-data/fonts/ttf/SimHei.ttf\n",
    "!rm -rf /home/featurize/.cache/matplotlib\n",
    "\n",
    "import matplotlib\n",
    "import matplotlib.pyplot as plt\n",
    "matplotlib.rc(\"font\",family='SimHei') # 中文字体\n",
    "plt.rcParams['axes.unicode_minus']=False  # 用来正常显示负号"
   ]
  },
  {
   "cell_type": "markdown",
   "id": "0d9c174f-33c0-44fa-af53-14237d35b37d",
   "metadata": {},
   "source": [
    "## 导入工具包"
   ]
  },
  {
   "cell_type": "code",
   "execution_count": 2,
   "id": "6b35d923-b9e9-4ea4-914a-5bf05b93a2b5",
   "metadata": {},
   "outputs": [],
   "source": [
    "import time\n",
    "import os\n",
    "\n",
    "import numpy as np\n",
    "from tqdm import tqdm\n",
    "\n",
    "import torch\n",
    "import torchvision\n",
    "import torch.nn as nn\n",
    "import torch.nn.functional as F\n",
    "\n",
    "import matplotlib.pyplot as plt\n",
    "%matplotlib inline\n",
    "\n",
    "# 忽略烦人的红色提示\n",
    "import warnings\n",
    "warnings.filterwarnings(\"ignore\")"
   ]
  },
  {
   "cell_type": "markdown",
   "id": "dd7d48dc-580c-4c07-8d4e-02f99634c952",
   "metadata": {},
   "source": [
    "## 获取计算硬件"
   ]
  },
  {
   "cell_type": "code",
   "execution_count": 3,
   "id": "e14f47aa-9ccb-4d56-a100-a5a82a97a43a",
   "metadata": {},
   "outputs": [
    {
     "name": "stdout",
     "output_type": "stream",
     "text": [
      "device cuda:0\n"
     ]
    }
   ],
   "source": [
    "# 有 GPU 就用 GPU，没有就用 CPU\n",
    "device = torch.device('cuda:0' if torch.cuda.is_available() else 'cpu')\n",
    "print('device', device)"
   ]
  },
  {
   "cell_type": "markdown",
   "id": "4e9499c1-0594-48b8-80f0-e7fdbc30dbe3",
   "metadata": {},
   "source": [
    "## 图像预处理"
   ]
  },
  {
   "cell_type": "code",
   "execution_count": 4,
   "id": "81f0ca03-de86-450d-a47e-6f0e7c19d97a",
   "metadata": {},
   "outputs": [],
   "source": [
    "from torchvision import transforms\n",
    "\n",
    "# 训练集图像预处理：缩放裁剪、图像增强、转 Tensor、归一化\n",
    "train_transform = transforms.Compose([transforms.RandomResizedCrop(224),\n",
    "                                      transforms.RandomHorizontalFlip(),\n",
    "                                      transforms.ToTensor(),\n",
    "                                      transforms.Normalize([0.485, 0.456, 0.406], [0.229, 0.224, 0.225])\n",
    "                                     ])\n",
    "\n",
    "# 测试集图像预处理-RCTN：缩放、裁剪、转 Tensor、归一化\n",
    "test_transform = transforms.Compose([transforms.Resize(256),\n",
    "                                     transforms.CenterCrop(224),\n",
    "                                     transforms.ToTensor(),\n",
    "                                     transforms.Normalize(\n",
    "                                         mean=[0.485, 0.456, 0.406], \n",
    "                                         std=[0.229, 0.224, 0.225])\n",
    "                                    ])"
   ]
  },
  {
   "cell_type": "markdown",
   "id": "1d059c79-5b67-49fe-9baa-1bcd363208dc",
   "metadata": {},
   "source": [
    "## 载入图像分类数据集"
   ]
  },
  {
   "cell_type": "code",
   "execution_count": 5,
   "id": "dcf6544a-6af5-4b07-93df-d863157b9290",
   "metadata": {},
   "outputs": [],
   "source": [
    "# 数据集文件夹路径\n",
    "dataset_dir = 'dataset_split'"
   ]
  },
  {
   "cell_type": "code",
   "execution_count": 6,
   "id": "ccb23900-b48f-4839-9cf5-82c9d07b42a6",
   "metadata": {},
   "outputs": [
    {
     "name": "stdout",
     "output_type": "stream",
     "text": [
      "训练集路径 dataset_split/train\n",
      "测试集路径 dataset_split/val\n"
     ]
    }
   ],
   "source": [
    "train_path = os.path.join(dataset_dir, 'train')\n",
    "test_path = os.path.join(dataset_dir, 'val')\n",
    "print('训练集路径', train_path)\n",
    "print('测试集路径', test_path)"
   ]
  },
  {
   "cell_type": "code",
   "execution_count": 7,
   "id": "6eb2572f-3823-430e-81d5-ef202fa52244",
   "metadata": {},
   "outputs": [],
   "source": [
    "from torchvision import datasets\n",
    "\n",
    "# 载入训练集\n",
    "train_dataset = datasets.ImageFolder(train_path, train_transform)\n",
    "\n",
    "# 载入测试集\n",
    "test_dataset = datasets.ImageFolder(test_path, test_transform)"
   ]
  },
  {
   "cell_type": "code",
   "execution_count": 8,
   "id": "df766b1f-a51f-4c3f-a916-08fc633713a5",
   "metadata": {},
   "outputs": [
    {
     "name": "stdout",
     "output_type": "stream",
     "text": [
      "训练集图像数量 2317\n",
      "类别个数 7\n",
      "各类别名称 ['乌龟', '仓鼠', '兔子', '狗', '猫', '金鱼', '鹦鹉']\n"
     ]
    }
   ],
   "source": [
    "print('训练集图像数量', len(train_dataset))\n",
    "print('类别个数', len(train_dataset.classes))\n",
    "print('各类别名称', train_dataset.classes)"
   ]
  },
  {
   "cell_type": "code",
   "execution_count": 9,
   "id": "fa33a8d8-2e9e-43d9-bcfd-09f0c9d6619a",
   "metadata": {},
   "outputs": [
    {
     "name": "stdout",
     "output_type": "stream",
     "text": [
      "测试集图像数量 576\n",
      "类别个数 7\n",
      "各类别名称 ['乌龟', '仓鼠', '兔子', '狗', '猫', '金鱼', '鹦鹉']\n"
     ]
    }
   ],
   "source": [
    "print('测试集图像数量', len(test_dataset))\n",
    "print('类别个数', len(test_dataset.classes))\n",
    "print('各类别名称', test_dataset.classes)"
   ]
  },
  {
   "cell_type": "markdown",
   "id": "f74e98be-4648-4d34-9e6c-273a55127b4d",
   "metadata": {},
   "source": [
    "## 类别和索引号 一一对应"
   ]
  },
  {
   "cell_type": "code",
   "execution_count": 10,
   "id": "0f737200-3afd-46f7-9c42-52c66829572e",
   "metadata": {},
   "outputs": [],
   "source": [
    "# 各类别名称\n",
    "class_names = train_dataset.classes\n",
    "n_class = len(class_names)"
   ]
  },
  {
   "cell_type": "code",
   "execution_count": 11,
   "id": "75f0a680-7511-46a9-b3a3-2c8fc20d9a37",
   "metadata": {},
   "outputs": [
    {
     "data": {
      "text/plain": [
       "['乌龟', '仓鼠', '兔子', '狗', '猫', '金鱼', '鹦鹉']"
      ]
     },
     "execution_count": 11,
     "metadata": {},
     "output_type": "execute_result"
    }
   ],
   "source": [
    "class_names"
   ]
  },
  {
   "cell_type": "code",
   "execution_count": 12,
   "id": "c671913e-b8f5-4410-bf12-2e942d9d4e7a",
   "metadata": {},
   "outputs": [
    {
     "data": {
      "text/plain": [
       "{'乌龟': 0, '仓鼠': 1, '兔子': 2, '狗': 3, '猫': 4, '金鱼': 5, '鹦鹉': 6}"
      ]
     },
     "execution_count": 12,
     "metadata": {},
     "output_type": "execute_result"
    }
   ],
   "source": [
    "# 映射关系：类别 到 索引号\n",
    "train_dataset.class_to_idx"
   ]
  },
  {
   "cell_type": "code",
   "execution_count": 13,
   "id": "d07ab397-19fa-404e-aaa0-20dfadc02bdf",
   "metadata": {},
   "outputs": [],
   "source": [
    "# 映射关系：索引号 到 类别\n",
    "idx_to_labels = {y:x for x,y in train_dataset.class_to_idx.items()}"
   ]
  },
  {
   "cell_type": "code",
   "execution_count": 14,
   "id": "c0ce6c26-65a2-4f49-b877-064479365487",
   "metadata": {},
   "outputs": [
    {
     "data": {
      "text/plain": [
       "{0: '乌龟', 1: '仓鼠', 2: '兔子', 3: '狗', 4: '猫', 5: '金鱼', 6: '鹦鹉'}"
      ]
     },
     "execution_count": 14,
     "metadata": {},
     "output_type": "execute_result"
    }
   ],
   "source": [
    "idx_to_labels"
   ]
  },
  {
   "cell_type": "code",
   "execution_count": 15,
   "id": "9e74e138-c9bb-48f4-aed6-c5e4b4ce2b17",
   "metadata": {},
   "outputs": [],
   "source": [
    "# 保存为本地的 npy 文件\n",
    "np.save('idx_to_labels.npy', idx_to_labels)\n",
    "np.save('labels_to_idx.npy', train_dataset.class_to_idx)"
   ]
  },
  {
   "cell_type": "markdown",
   "id": "329d3824-e6bb-4f50-9802-f073d9151311",
   "metadata": {},
   "source": [
    "## 定义数据加载器DataLoader"
   ]
  },
  {
   "cell_type": "code",
   "execution_count": 16,
   "id": "300daf13-807a-4f80-a2cc-ee3675a64c90",
   "metadata": {},
   "outputs": [],
   "source": [
    "from torch.utils.data import DataLoader"
   ]
  },
  {
   "cell_type": "code",
   "execution_count": 17,
   "id": "a787702d-61c6-41af-9cbd-19bc5d3baae7",
   "metadata": {},
   "outputs": [],
   "source": [
    "BATCH_SIZE = 32\n",
    "\n",
    "# 训练集的数据加载器\n",
    "train_loader = DataLoader(train_dataset,\n",
    "                          batch_size=BATCH_SIZE,\n",
    "                          shuffle=True,\n",
    "                          num_workers=4\n",
    "                         )\n",
    "\n",
    "# 测试集的数据加载器\n",
    "test_loader = DataLoader(test_dataset,\n",
    "                         batch_size=BATCH_SIZE,\n",
    "                         shuffle=False,\n",
    "                         num_workers=4\n",
    "                        )"
   ]
  },
  {
   "cell_type": "markdown",
   "id": "8d1e837d-df50-4af8-a395-22e550b3d1f2",
   "metadata": {},
   "source": [
    "## 查看一个batch的图像和标注"
   ]
  },
  {
   "cell_type": "code",
   "execution_count": 18,
   "id": "28879d37-687b-45a8-b980-731df68dab02",
   "metadata": {},
   "outputs": [],
   "source": [
    "# DataLoader 是 python生成器，每次调用返回一个 batch 的数据\n",
    "images, labels = next(iter(train_loader))"
   ]
  },
  {
   "cell_type": "code",
   "execution_count": 19,
   "id": "8711c143-d26b-4c70-9da9-f1a78a89c65a",
   "metadata": {},
   "outputs": [
    {
     "data": {
      "text/plain": [
       "torch.Size([32, 3, 224, 224])"
      ]
     },
     "execution_count": 19,
     "metadata": {},
     "output_type": "execute_result"
    }
   ],
   "source": [
    "images.shape"
   ]
  },
  {
   "cell_type": "code",
   "execution_count": 20,
   "id": "be7305eb-e333-4325-9aa3-cc58c59a175b",
   "metadata": {},
   "outputs": [
    {
     "data": {
      "text/plain": [
       "tensor([0, 1, 5, 1, 6, 3, 5, 6, 4, 5, 2, 0, 6, 4, 2, 4, 1, 4, 4, 1, 0, 6, 6, 3,\n",
       "        3, 5, 2, 6, 1, 2, 0, 3])"
      ]
     },
     "execution_count": 20,
     "metadata": {},
     "output_type": "execute_result"
    }
   ],
   "source": [
    "labels"
   ]
  },
  {
   "cell_type": "markdown",
   "id": "147df415-b72d-4556-a75f-adb57ddbff6a",
   "metadata": {},
   "source": [
    "## 可视化一个batch的图像和标注"
   ]
  },
  {
   "cell_type": "code",
   "execution_count": 21,
   "id": "11cee8f7-9f9a-441b-9e7f-cc3ebf2b534c",
   "metadata": {},
   "outputs": [],
   "source": [
    "# 将数据集中的Tensor张量转为numpy的array数据类型\n",
    "images = images.numpy()"
   ]
  },
  {
   "cell_type": "code",
   "execution_count": 22,
   "id": "f4013567-7a8e-40fc-9ce5-435a283cacd2",
   "metadata": {},
   "outputs": [
    {
     "data": {
      "text/plain": [
       "(3, 224, 224)"
      ]
     },
     "execution_count": 22,
     "metadata": {},
     "output_type": "execute_result"
    }
   ],
   "source": [
    "images[5].shape"
   ]
  },
  {
   "cell_type": "code",
   "execution_count": 23,
   "id": "502d7d5d-3028-4d60-b2ec-172762c36688",
   "metadata": {},
   "outputs": [
    {
     "data": {
      "image/png": "[encoded data removed]",
      "text/plain": [
       "<Figure size 432x288 with 1 Axes>"
      ]
     },
     "metadata": {
      "needs_background": "light"
     },
     "output_type": "display_data"
    }
   ],
   "source": [
    "plt.hist(images[5].flatten(), bins=50)\n",
    "plt.show()"
   ]
  },
  {
   "cell_type": "code",
   "execution_count": 24,
   "id": "713484b7-cc92-4fbe-9891-6a635fca54a4",
   "metadata": {},
   "outputs": [
    {
     "name": "stderr",
     "output_type": "stream",
     "text": [
      "Clipping input data to the valid range for imshow with RGB data ([0..1] for floats or [0..255] for integers).\n"
     ]
    },
    {
     "data": {
      "text/plain": [
       "Text(0.5, 1.0, 'label:5')"
      ]
     },
     "execution_count": 24,
     "metadata": {},
     "output_type": "execute_result"
    },
    {
     "data": {
      "image/png": "[encoded data removed]",
      "text/plain": [
       "<Figure size 432x288 with 1 Axes>"
      ]
     },
     "metadata": {
      "needs_background": "light"
     },
     "output_type": "display_data"
    }
   ],
   "source": [
    "# batch 中经过预处理的图像\n",
    "idx = 2\n",
    "plt.imshow(images[idx].transpose((1,2,0))) # 转为(224, 224, 3)\n",
    "plt.title('label:'+str(labels[idx].item()))"
   ]
  },
  {
   "cell_type": "code",
   "execution_count": 25,
   "id": "488f9f7c-aba0-42a0-9520-3ba2533f9747",
   "metadata": {},
   "outputs": [],
   "source": [
    "label = labels[idx].item()"
   ]
  },
  {
   "cell_type": "code",
   "execution_count": 26,
   "id": "c6f1dd61-dd3a-4233-86ad-1d2f7cdd6f36",
   "metadata": {},
   "outputs": [
    {
     "data": {
      "text/plain": [
       "5"
      ]
     },
     "execution_count": 26,
     "metadata": {},
     "output_type": "execute_result"
    }
   ],
   "source": [
    "label"
   ]
  },
  {
   "cell_type": "code",
   "execution_count": 27,
   "id": "42fe5e73-cc5c-4ebb-b24e-0a2c785d2e65",
   "metadata": {},
   "outputs": [],
   "source": [
    "pred_classname = idx_to_labels[label]"
   ]
  },
  {
   "cell_type": "code",
   "execution_count": 28,
   "id": "fb1c0a93-c625-4f74-a8da-8b675e3d3f73",
   "metadata": {},
   "outputs": [
    {
     "data": {
      "text/plain": [
       "'金鱼'"
      ]
     },
     "execution_count": 28,
     "metadata": {},
     "output_type": "execute_result"
    }
   ],
   "source": [
    "pred_classname"
   ]
  },
  {
   "cell_type": "code",
   "execution_count": 29,
   "id": "8ccc3188-33a6-476f-928e-7abcf8f8db96",
   "metadata": {},
   "outputs": [
    {
     "data": {
      "image/png": "[encoded data removed]",
      "text/plain": [
       "<Figure size 432x288 with 1 Axes>"
      ]
     },
     "metadata": {
      "needs_background": "light"
     },
     "output_type": "display_data"
    }
   ],
   "source": [
    "# 原始图像\n",
    "idx = 2\n",
    "mean = np.array([0.485, 0.456, 0.406])\n",
    "std = np.array([0.229, 0.224, 0.225])\n",
    "plt.imshow(np.clip(images[idx].transpose((1,2,0)) * std + mean, 0, 1))\n",
    "plt.title('label:'+ pred_classname)\n",
    "plt.show()"
   ]
  },
  {
   "cell_type": "markdown",
   "id": "80b52d04-a791-4feb-8b57-af98b253ebba",
   "metadata": {},
   "source": [
    "## 导入训练需使用的工具包"
   ]
  },
  {
   "cell_type": "code",
   "execution_count": 30,
   "id": "684da643-5a88-4ba2-b49c-5dc98b35100e",
   "metadata": {},
   "outputs": [],
   "source": [
    "from torchvision import models\n",
    "import torch.optim as optim"
   ]
  },
  {
   "cell_type": "markdown",
   "id": "5c95e0a3-795b-4ceb-8d0c-11c452744909",
   "metadata": {},
   "source": [
    "## 选择迁移学习训练方式\n",
    "\n",
    "斯坦福CS231N【迁移学习】中文精讲：https://www.bilibili.com/video/BV1K7411W7So\n",
    "\n",
    "斯坦福CS231N【迁移学习】官方笔记：https://cs231n.github.io/transfer-learning\n",
    "\n",
    "ResNet算法精讲与论文逐句精读：https://www.bilibili.com/video/BV1vb4y1k7BV"
   ]
  },
  {
   "cell_type": "markdown",
   "id": "c9f90378-350d-48c2-98f7-e4fb3151aeb6",
   "metadata": {},
   "source": [
    "### 选择一：只微调训练模型最后一层（全连接分类层）"
   ]
  },
  {
   "cell_type": "code",
   "execution_count": 31,
   "id": "23269f1a-ea51-4321-a1c3-20e572f4f671",
   "metadata": {},
   "outputs": [
    {
     "name": "stderr",
     "output_type": "stream",
     "text": [
      "Downloading: \"https://download.pytorch.org/models/resnet18-f37072fd.pth\" to /home/featurize/.cache/torch/hub/checkpoints/resnet18-f37072fd.pth\n"
     ]
    },
    {
     "data": {
      "application/vnd.jupyter.widget-view+json": {
       "model_id": "270bea87f71d40189f3c37ecbbd6ba80",
       "version_major": 2,
       "version_minor": 0
      },
      "text/plain": [
       "  0%|          | 0.00/44.7M [00:00<?, ?B/s]"
      ]
     },
     "metadata": {},
     "output_type": "display_data"
    }
   ],
   "source": [
    "model = models.resnet18(pretrained=True) # 载入预训练模型\n",
    "\n",
    "# 修改全连接层，使得全连接层的输出与当前数据集类别数对应\n",
    "# 新建的层默认 requires_grad=True\n",
    "model.fc = nn.Linear(model.fc.in_features, n_class)"
   ]
  },
  {
   "cell_type": "code",
   "execution_count": 32,
   "id": "b6d39213-c7a0-456f-973d-b1fb070040d2",
   "metadata": {},
   "outputs": [
    {
     "data": {
      "text/plain": [
       "Linear(in_features=512, out_features=7, bias=True)"
      ]
     },
     "execution_count": 32,
     "metadata": {},
     "output_type": "execute_result"
    }
   ],
   "source": [
    "model.fc"
   ]
  },
  {
   "cell_type": "code",
   "execution_count": 33,
   "id": "c1c9ae51-045f-4c33-9c1e-0e5b263eb0f8",
   "metadata": {},
   "outputs": [],
   "source": [
    "# 只微调训练最后一层全连接层的参数，其它层冻结\n",
    "optimizer = optim.Adam(model.fc.parameters())"
   ]
  },
  {
   "cell_type": "markdown",
   "id": "cae51ee7-63fc-4895-ab0d-69815359032e",
   "metadata": {},
   "source": [
    "### 选择二：微调训练所有层"
   ]
  },
  {
   "cell_type": "code",
   "execution_count": 34,
   "id": "e20cdc2b-3cd2-472b-bf63-2e34a3d39a8f",
   "metadata": {},
   "outputs": [],
   "source": [
    " #model = models.resnet18(pretrained=True) # 载入预训练模型\n",
    "\n",
    " #model.fc = nn.Linear(model.fc.in_features, n_class)\n",
    "\n",
    " #optimizer = optim.Adam(model.parameters())"
   ]
  },
  {
   "cell_type": "markdown",
   "id": "99a6da8b-ab76-4568-bf3a-09c4ec3434b7",
   "metadata": {},
   "source": [
    "### 选择三：随机初始化模型全部权重，从头训练所有层"
   ]
  },
  {
   "cell_type": "code",
   "execution_count": 35,
   "id": "7c792cc4-ab64-403f-a7c9-80f3bee01c4a",
   "metadata": {},
   "outputs": [],
   "source": [
    " #model = models.resnet18(pretrained=False) # 只载入模型结构，不载入预训练权重参数\n",
    "\n",
    " #model.fc = nn.Linear(model.fc.in_features, n_class)\n",
    "\n",
    " #optimizer = optim.Adam(model.parameters())"
   ]
  },
  {
   "cell_type": "markdown",
   "id": "6e92213d-d6d9-435f-a4c0-4bcdbdf7c6b8",
   "metadata": {},
   "source": [
    "## 训练配置"
   ]
  },
  {
   "cell_type": "code",
   "execution_count": 36,
   "id": "a5146eb0-f25e-400c-bbd6-e567f8aab8c9",
   "metadata": {},
   "outputs": [],
   "source": [
    "model = model.to(device)\n",
    "\n",
    "# 交叉熵损失函数\n",
    "criterion = nn.CrossEntropyLoss() \n",
    "\n",
    "# 训练轮次 Epoch\n",
    "EPOCHS = 40"
   ]
  },
  {
   "cell_type": "markdown",
   "id": "1d188eff-603c-475f-938a-ca10aa9427cc",
   "metadata": {},
   "source": [
    "## 模拟一个batch的训练"
   ]
  },
  {
   "cell_type": "code",
   "execution_count": 37,
   "id": "c376d88f-127d-47a8-8367-2a3e4670fc40",
   "metadata": {},
   "outputs": [],
   "source": [
    "# 获得一个 batch 的数据和标注\n",
    "images, labels = next(iter(train_loader))\n",
    "images = images.to(device)\n",
    "labels = labels.to(device)"
   ]
  },
  {
   "cell_type": "code",
   "execution_count": 38,
   "id": "a4147f53-0de3-4757-b5d1-575f5ae3273d",
   "metadata": {},
   "outputs": [],
   "source": [
    "# 输入模型，执行前向预测\n",
    "outputs = model(images)"
   ]
  },
  {
   "cell_type": "code",
   "execution_count": 39,
   "id": "edc18cf4-bdf0-43ff-9d82-4de67fe4ba5f",
   "metadata": {},
   "outputs": [
    {
     "data": {
      "text/plain": [
       "torch.Size([32, 7])"
      ]
     },
     "execution_count": 39,
     "metadata": {},
     "output_type": "execute_result"
    }
   ],
   "source": [
    "# 获得当前 batch 所有图像的预测类别 logit 分数\n",
    "outputs.shape"
   ]
  },
  {
   "cell_type": "code",
   "execution_count": 40,
   "id": "1566da53-8fd3-4f70-b33c-edc40f8ea8df",
   "metadata": {},
   "outputs": [],
   "source": [
    "# 由 logit，计算当前 batch 中，每个样本的平均交叉熵损失函数值\n",
    "loss = criterion(outputs, labels)"
   ]
  },
  {
   "cell_type": "code",
   "execution_count": 41,
   "id": "98e28997-4544-4cae-8e65-92995dd9e6ce",
   "metadata": {},
   "outputs": [],
   "source": [
    "# 反向传播“三部曲”\n",
    "optimizer.zero_grad() # 清除梯度\n",
    "loss.backward() # 反向传播\n",
    "optimizer.step() # 优化更新"
   ]
  },
  {
   "cell_type": "code",
   "execution_count": 42,
   "id": "3fabd3ba-d950-4ffa-a1af-9e4cb0dc8b6e",
   "metadata": {},
   "outputs": [],
   "source": [
    "# 获得当前 batch 所有图像的预测类别\n",
    "_, preds = torch.max(outputs, 1)"
   ]
  },
  {
   "cell_type": "code",
   "execution_count": 43,
   "id": "51ac9a4f-a1be-447a-9429-17b5ef2c922a",
   "metadata": {},
   "outputs": [
    {
     "data": {
      "text/plain": [
       "tensor([4, 2, 2, 2, 2, 4, 2, 4, 3, 2, 3, 4, 3, 2, 4, 4, 2, 4, 3, 2, 4, 4, 2, 3,\n",
       "        4, 2, 4, 5, 5, 3, 4, 2], device='cuda:0')"
      ]
     },
     "execution_count": 43,
     "metadata": {},
     "output_type": "execute_result"
    }
   ],
   "source": [
    "preds"
   ]
  },
  {
   "cell_type": "code",
   "execution_count": 44,
   "id": "bf11de94-c0f6-47fb-9785-0aedb0fc9134",
   "metadata": {},
   "outputs": [
    {
     "data": {
      "text/plain": [
       "tensor([6, 2, 4, 1, 3, 6, 4, 5, 4, 1, 5, 0, 0, 2, 0, 6, 3, 6, 2, 5, 6, 0, 1, 3,\n",
       "        1, 3, 6, 6, 0, 6, 5, 2], device='cuda:0')"
      ]
     },
     "execution_count": 44,
     "metadata": {},
     "output_type": "execute_result"
    }
   ],
   "source": [
    "labels"
   ]
  },
  {
   "cell_type": "markdown",
   "id": "733fec36-70de-4a8a-a985-57148fd36815",
   "metadata": {},
   "source": [
    "## 运行完整训练"
   ]
  },
  {
   "cell_type": "code",
   "execution_count": 45,
   "id": "c630791f-3137-49cd-8e38-3a788f84ec54",
   "metadata": {},
   "outputs": [
    {
     "name": "stderr",
     "output_type": "stream",
     "text": [
      "100%|██████████| 40/40 [03:25<00:00,  5.14s/it]\n"
     ]
    }
   ],
   "source": [
    "# 遍历每个 EPOCH\n",
    "for epoch in tqdm(range(EPOCHS)):\n",
    "\n",
    "    model.train()\n",
    "\n",
    "    for images, labels in train_loader:  # 获取训练集的一个 batch，包含数据和标注\n",
    "        images = images.to(device)\n",
    "        labels = labels.to(device)\n",
    "\n",
    "        outputs = model(images)           # 前向预测，获得当前 batch 的预测结果\n",
    "        loss = criterion(outputs, labels) # 比较预测结果和标注，计算当前 batch 的交叉熵损失函数\n",
    "        \n",
    "        optimizer.zero_grad()\n",
    "        loss.backward()                   # 损失函数对神经网络权重反向传播求梯度\n",
    "        optimizer.step()                  # 优化更新神经网络权重"
   ]
  },
  {
   "cell_type": "markdown",
   "id": "fbf71013-075b-4878-884a-c5c650772f82",
   "metadata": {},
   "source": [
    "## 在测试集上初步测试"
   ]
  },
  {
   "cell_type": "code",
   "execution_count": 48,
   "id": "c18416eb-ee78-420a-b48a-95727c992c9d",
   "metadata": {},
   "outputs": [
    {
     "name": "stderr",
     "output_type": "stream",
     "text": [
      "100%|██████████| 18/18 [00:02<00:00,  8.88it/s]"
     ]
    },
    {
     "name": "stdout",
     "output_type": "stream",
     "text": [
      "测试集上的准确率为 96.875 %\n"
     ]
    },
    {
     "name": "stderr",
     "output_type": "stream",
     "text": [
      "\n"
     ]
    }
   ],
   "source": [
    "model.eval()\n",
    "with torch.no_grad():\n",
    "    correct = 0\n",
    "    total = 0\n",
    "    for images, labels in tqdm(test_loader): # 获取测试集的一个 batch，包含数据和标注\n",
    "        images = images.to(device)\n",
    "        labels = labels.to(device)\n",
    "        outputs = model(images)              # 前向预测，获得当前 batch 的预测置信度\n",
    "        _, preds = torch.max(outputs, 1)     # 获得最大置信度对应的类别，作为预测结果\n",
    "        total += labels.size(0)\n",
    "        correct += (preds == labels).sum()   # 预测正确样本个数\n",
    "\n",
    "    print('测试集上的准确率为 {:.3f} %'.format(100 * correct / total))"
   ]
  },
  {
   "cell_type": "markdown",
   "id": "773da35f-3c61-4fbc-b00a-de7f612e3046",
   "metadata": {},
   "source": [
    "## 保存模型"
   ]
  },
  {
   "cell_type": "code",
   "execution_count": 51,
   "id": "9201086a-a2ba-48bd-839d-f044b5419a5d",
   "metadata": {},
   "outputs": [],
   "source": [
    "torch.save(model, 'checkpoint/animal_pytorch_C1.pth')"
   ]
  },
  {
   "cell_type": "markdown",
   "id": "44e39fa3-29c0-489a-854e-b4df1c1bcf57",
   "metadata": {},
   "source": [
    "## 参考文档\n",
    "\n",
    "https://pytorch.org/tutorials/beginner/transfer_learning_tutorial.html\n",
    "\n",
    "https://www.bilibili.com/video/BV1qe4y1D7zD\n",
    "\n",
    "https://www.bilibili.com/video/BV14J411X7Bb\n",
    "\n",
    "https://www.bilibili.com/video/BV1w4411u7ay"
   ]
  },
  {
   "cell_type": "code",
   "execution_count": null,
   "id": "139d2504-a78a-4145-8520-5206fb51b829",
   "metadata": {},
   "outputs": [],
   "source": []
  }
 ],
 "metadata": {
  "kernelspec": {
   "display_name": "Python 3 (ipykernel)",
   "language": "python",
   "name": "python3"
  },
  "language_info": {
   "codemirror_mode": {
    "name": "ipython",
    "version": 3
   },
   "file_extension": ".py",
   "mimetype": "text/x-python",
   "name": "python",
   "nbconvert_exporter": "python",
   "pygments_lexer": "ipython3",
   "version": "3.7.10"
  }
 },
 "nbformat": 4,
 "nbformat_minor": 5
}
