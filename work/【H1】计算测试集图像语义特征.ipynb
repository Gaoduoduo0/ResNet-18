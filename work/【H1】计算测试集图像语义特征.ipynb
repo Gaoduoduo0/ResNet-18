{
 "cells": [
  {
   "cell_type": "markdown",
   "id": "753ae5b1-2f57-4f1c-ba12-0c2a6f62a23a",
   "metadata": {},
   "source": [
    "# 计算测试集图像语义特征"
   ]
  },
  {
   "cell_type": "markdown",
   "id": "0a2a232f-0178-4661-98d8-f27f6fa130bf",
   "metadata": {},
   "source": [
    "## 导入工具包"
   ]
  },
  {
   "cell_type": "code",
   "execution_count": 1,
   "id": "57328106-567d-4be0-a0bc-1a20e88ceb01",
   "metadata": {},
   "outputs": [
    {
     "name": "stdout",
     "output_type": "stream",
     "text": [
      "device cuda:0\n"
     ]
    }
   ],
   "source": [
    "from tqdm import tqdm\n",
    "\n",
    "import pandas as pd\n",
    "import numpy as np\n",
    "\n",
    "import torch\n",
    "\n",
    "import cv2\n",
    "from PIL import Image\n",
    "\n",
    "# 忽略烦人的红色提示\n",
    "import warnings\n",
    "warnings.filterwarnings(\"ignore\")\n",
    "\n",
    "# 有 GPU 就用 GPU，没有就用 CPU\n",
    "device = torch.device('cuda:0' if torch.cuda.is_available() else 'cpu')\n",
    "print('device', device)"
   ]
  },
  {
   "cell_type": "markdown",
   "id": "7500ea23-53d8-4421-92f6-647d41e34d80",
   "metadata": {},
   "source": [
    "## 图像预处理"
   ]
  },
  {
   "cell_type": "code",
   "execution_count": 2,
   "id": "b562b97f-9a4a-4729-b238-4acb2e77e9dc",
   "metadata": {},
   "outputs": [],
   "source": [
    "from torchvision import transforms\n",
    "\n",
    "# # 训练集图像预处理：缩放裁剪、图像增强、转 Tensor、归一化\n",
    "# train_transform = transforms.Compose([transforms.RandomResizedCrop(224),\n",
    "#                                       transforms.RandomHorizontalFlip(),\n",
    "#                                       transforms.ToTensor(),\n",
    "#                                       transforms.Normalize([0.485, 0.456, 0.406], [0.229, 0.224, 0.225])\n",
    "#                                      ])\n",
    "\n",
    "# 测试集图像预处理-RCTN：缩放、裁剪、转 Tensor、归一化\n",
    "test_transform = transforms.Compose([transforms.Resize(256),\n",
    "                                     transforms.CenterCrop(224),\n",
    "                                     transforms.ToTensor(),\n",
    "                                     transforms.Normalize(\n",
    "                                         mean=[0.485, 0.456, 0.406], \n",
    "                                         std=[0.229, 0.224, 0.225])\n",
    "                                    ])"
   ]
  },
  {
   "cell_type": "markdown",
   "id": "f4a3347a-1c09-4b48-b19a-fbcc3791c08b",
   "metadata": {},
   "source": [
    "## 导入训练好的模型"
   ]
  },
  {
   "cell_type": "code",
   "execution_count": 4,
   "id": "618333ec-6e91-4342-acf3-86aaa1654068",
   "metadata": {},
   "outputs": [],
   "source": [
    "model = torch.load('checkpoint/animal_pytorch_C1.pth')\n",
    "model = model.eval().to(device)"
   ]
  },
  {
   "cell_type": "markdown",
   "id": "e41c4cb2-e516-4150-9e9c-9580a26c72a3",
   "metadata": {},
   "source": [
    "## 抽取模型中间层输出结果作为语义特征"
   ]
  },
  {
   "cell_type": "code",
   "execution_count": 5,
   "id": "a9fdf127-c713-4bb4-bcc8-4f808e011229",
   "metadata": {},
   "outputs": [],
   "source": [
    "from torchvision.models.feature_extraction import create_feature_extractor"
   ]
  },
  {
   "cell_type": "code",
   "execution_count": 6,
   "id": "0a4dda05-7510-40a5-bc6f-6df80fdc4c64",
   "metadata": {},
   "outputs": [],
   "source": [
    "model_trunc = create_feature_extractor(model, return_nodes={'avgpool': 'semantic_feature'})"
   ]
  },
  {
   "cell_type": "markdown",
   "id": "1b7137df-1c4a-452e-be96-de7ec6a5d85e",
   "metadata": {},
   "source": [
    "## 计算单张图像的语义特征"
   ]
  },
  {
   "cell_type": "code",
   "execution_count": 8,
   "id": "157f9102-fc51-468e-a43e-1a9256dfe22a",
   "metadata": {},
   "outputs": [],
   "source": [
    "img_path = 'dataset_split/val/乌龟/106.jpg'\n",
    "img_pil = Image.open(img_path)\n",
    "input_img = test_transform(img_pil) # 预处理\n",
    "input_img = input_img.unsqueeze(0).to(device)\n",
    "# 执行前向预测，得到指定中间层的输出\n",
    "pred_logits = model_trunc(input_img) "
   ]
  },
  {
   "cell_type": "code",
   "execution_count": 9,
   "id": "108eb111-dc92-408c-8bf8-6111ad6a28e7",
   "metadata": {},
   "outputs": [
    {
     "data": {
      "text/plain": [
       "(512,)"
      ]
     },
     "execution_count": 9,
     "metadata": {},
     "output_type": "execute_result"
    }
   ],
   "source": [
    "pred_logits['semantic_feature'].squeeze().detach().cpu().numpy().shape"
   ]
  },
  {
   "cell_type": "code",
   "execution_count": 10,
   "id": "f70ba1f3-02c3-4bc7-92c2-5b0ee5a76762",
   "metadata": {},
   "outputs": [],
   "source": [
    "# pred_logits['semantic_feature'].squeeze().detach().cpu().numpy()"
   ]
  },
  {
   "cell_type": "markdown",
   "id": "b1d681eb-d2af-4e54-bfa2-78590dffafbe",
   "metadata": {},
   "source": [
    "## 载入测试集图像分类结果"
   ]
  },
  {
   "cell_type": "code",
   "execution_count": 11,
   "id": "6bb76734-83d2-49c9-ae35-3240595d5861",
   "metadata": {},
   "outputs": [],
   "source": [
    "df = pd.read_csv('测试集预测结果.csv')"
   ]
  },
  {
   "cell_type": "code",
   "execution_count": 12,
   "id": "6de3a2b3-0035-4f01-afbc-69b87e1af806",
   "metadata": {},
   "outputs": [
    {
     "data": {
      "text/html": [
       "<div>\n",
       "<style scoped>\n",
       "    .dataframe tbody tr th:only-of-type {\n",
       "        vertical-align: middle;\n",
       "    }\n",
       "\n",
       "    .dataframe tbody tr th {\n",
       "        vertical-align: top;\n",
       "    }\n",
       "\n",
       "    .dataframe thead th {\n",
       "        text-align: right;\n",
       "    }\n",
       "</style>\n",
       "<table border=\"1\" class=\"dataframe\">\n",
       "  <thead>\n",
       "    <tr style=\"text-align: right;\">\n",
       "      <th></th>\n",
       "      <th>图像路径</th>\n",
       "      <th>标注类别ID</th>\n",
       "      <th>标注类别名称</th>\n",
       "      <th>top-1-预测ID</th>\n",
       "      <th>top-1-预测名称</th>\n",
       "      <th>top-2-预测ID</th>\n",
       "      <th>top-2-预测名称</th>\n",
       "      <th>top-3-预测ID</th>\n",
       "      <th>top-3-预测名称</th>\n",
       "      <th>top-n预测正确</th>\n",
       "      <th>乌龟-预测置信度</th>\n",
       "      <th>仓鼠-预测置信度</th>\n",
       "      <th>兔子-预测置信度</th>\n",
       "      <th>狗-预测置信度</th>\n",
       "      <th>猫-预测置信度</th>\n",
       "      <th>金鱼-预测置信度</th>\n",
       "      <th>鹦鹉-预测置信度</th>\n",
       "    </tr>\n",
       "  </thead>\n",
       "  <tbody>\n",
       "    <tr>\n",
       "      <th>0</th>\n",
       "      <td>dataset_split/val/乌龟/0.jpg</td>\n",
       "      <td>0</td>\n",
       "      <td>乌龟</td>\n",
       "      <td>0.0</td>\n",
       "      <td>乌龟</td>\n",
       "      <td>5.0</td>\n",
       "      <td>金鱼</td>\n",
       "      <td>3.0</td>\n",
       "      <td>狗</td>\n",
       "      <td>1.0</td>\n",
       "      <td>0.999790</td>\n",
       "      <td>0.000013</td>\n",
       "      <td>5.688636e-07</td>\n",
       "      <td>0.000019</td>\n",
       "      <td>0.000015</td>\n",
       "      <td>0.000151</td>\n",
       "      <td>0.000012</td>\n",
       "    </tr>\n",
       "    <tr>\n",
       "      <th>1</th>\n",
       "      <td>dataset_split/val/乌龟/106.jpg</td>\n",
       "      <td>0</td>\n",
       "      <td>乌龟</td>\n",
       "      <td>0.0</td>\n",
       "      <td>乌龟</td>\n",
       "      <td>6.0</td>\n",
       "      <td>鹦鹉</td>\n",
       "      <td>5.0</td>\n",
       "      <td>金鱼</td>\n",
       "      <td>1.0</td>\n",
       "      <td>0.970566</td>\n",
       "      <td>0.000354</td>\n",
       "      <td>9.084896e-04</td>\n",
       "      <td>0.000648</td>\n",
       "      <td>0.001596</td>\n",
       "      <td>0.005402</td>\n",
       "      <td>0.020526</td>\n",
       "    </tr>\n",
       "    <tr>\n",
       "      <th>2</th>\n",
       "      <td>dataset_split/val/乌龟/115.jpg</td>\n",
       "      <td>0</td>\n",
       "      <td>乌龟</td>\n",
       "      <td>0.0</td>\n",
       "      <td>乌龟</td>\n",
       "      <td>5.0</td>\n",
       "      <td>金鱼</td>\n",
       "      <td>1.0</td>\n",
       "      <td>仓鼠</td>\n",
       "      <td>1.0</td>\n",
       "      <td>0.963122</td>\n",
       "      <td>0.004735</td>\n",
       "      <td>5.228490e-04</td>\n",
       "      <td>0.002156</td>\n",
       "      <td>0.000909</td>\n",
       "      <td>0.027109</td>\n",
       "      <td>0.001446</td>\n",
       "    </tr>\n",
       "    <tr>\n",
       "      <th>3</th>\n",
       "      <td>dataset_split/val/乌龟/123.jpg</td>\n",
       "      <td>0</td>\n",
       "      <td>乌龟</td>\n",
       "      <td>0.0</td>\n",
       "      <td>乌龟</td>\n",
       "      <td>5.0</td>\n",
       "      <td>金鱼</td>\n",
       "      <td>6.0</td>\n",
       "      <td>鹦鹉</td>\n",
       "      <td>1.0</td>\n",
       "      <td>0.991517</td>\n",
       "      <td>0.000895</td>\n",
       "      <td>2.685588e-04</td>\n",
       "      <td>0.000279</td>\n",
       "      <td>0.000088</td>\n",
       "      <td>0.003942</td>\n",
       "      <td>0.003010</td>\n",
       "    </tr>\n",
       "    <tr>\n",
       "      <th>4</th>\n",
       "      <td>dataset_split/val/乌龟/164.jpg</td>\n",
       "      <td>0</td>\n",
       "      <td>乌龟</td>\n",
       "      <td>0.0</td>\n",
       "      <td>乌龟</td>\n",
       "      <td>5.0</td>\n",
       "      <td>金鱼</td>\n",
       "      <td>3.0</td>\n",
       "      <td>狗</td>\n",
       "      <td>1.0</td>\n",
       "      <td>0.999598</td>\n",
       "      <td>0.000010</td>\n",
       "      <td>6.147398e-05</td>\n",
       "      <td>0.000088</td>\n",
       "      <td>0.000022</td>\n",
       "      <td>0.000191</td>\n",
       "      <td>0.000030</td>\n",
       "    </tr>\n",
       "  </tbody>\n",
       "</table>\n",
       "</div>"
      ],
      "text/plain": [
       "                           图像路径  标注类别ID 标注类别名称  top-1-预测ID top-1-预测名称  \\\n",
       "0    dataset_split/val/乌龟/0.jpg       0     乌龟         0.0         乌龟   \n",
       "1  dataset_split/val/乌龟/106.jpg       0     乌龟         0.0         乌龟   \n",
       "2  dataset_split/val/乌龟/115.jpg       0     乌龟         0.0         乌龟   \n",
       "3  dataset_split/val/乌龟/123.jpg       0     乌龟         0.0         乌龟   \n",
       "4  dataset_split/val/乌龟/164.jpg       0     乌龟         0.0         乌龟   \n",
       "\n",
       "   top-2-预测ID top-2-预测名称  top-3-预测ID top-3-预测名称  top-n预测正确  乌龟-预测置信度  \\\n",
       "0         5.0         金鱼         3.0          狗        1.0  0.999790   \n",
       "1         6.0         鹦鹉         5.0         金鱼        1.0  0.970566   \n",
       "2         5.0         金鱼         1.0         仓鼠        1.0  0.963122   \n",
       "3         5.0         金鱼         6.0         鹦鹉        1.0  0.991517   \n",
       "4         5.0         金鱼         3.0          狗        1.0  0.999598   \n",
       "\n",
       "   仓鼠-预测置信度      兔子-预测置信度   狗-预测置信度   猫-预测置信度  金鱼-预测置信度  鹦鹉-预测置信度  \n",
       "0  0.000013  5.688636e-07  0.000019  0.000015  0.000151  0.000012  \n",
       "1  0.000354  9.084896e-04  0.000648  0.001596  0.005402  0.020526  \n",
       "2  0.004735  5.228490e-04  0.002156  0.000909  0.027109  0.001446  \n",
       "3  0.000895  2.685588e-04  0.000279  0.000088  0.003942  0.003010  \n",
       "4  0.000010  6.147398e-05  0.000088  0.000022  0.000191  0.000030  "
      ]
     },
     "execution_count": 12,
     "metadata": {},
     "output_type": "execute_result"
    }
   ],
   "source": [
    "df.head()"
   ]
  },
  {
   "cell_type": "markdown",
   "id": "74e7d010-df35-4fb9-8dcb-1af2d5399681",
   "metadata": {},
   "source": [
    "## 计算测试集每张图像的语义特征"
   ]
  },
  {
   "cell_type": "code",
   "execution_count": 13,
   "id": "0d630667-6b6b-4fdd-8c4d-28286499330b",
   "metadata": {},
   "outputs": [
    {
     "name": "stderr",
     "output_type": "stream",
     "text": [
      "100%|██████████| 576/576 [00:08<00:00, 67.37it/s]\n"
     ]
    }
   ],
   "source": [
    "encoding_array = []\n",
    "img_path_list = []\n",
    "\n",
    "for img_path in tqdm(df['图像路径']):\n",
    "    img_path_list.append(img_path)\n",
    "    img_pil = Image.open(img_path).convert('RGB')\n",
    "    input_img = test_transform(img_pil).unsqueeze(0).to(device) # 预处理\n",
    "    feature = model_trunc(input_img)['semantic_feature'].squeeze().detach().cpu().numpy() # 执行前向预测，得到 avgpool 层输出的语义特征\n",
    "    encoding_array.append(feature)\n",
    "encoding_array = np.array(encoding_array)"
   ]
  },
  {
   "cell_type": "code",
   "execution_count": 14,
   "id": "fec12f5b-35d0-4367-8ac1-7d7321eecee9",
   "metadata": {},
   "outputs": [
    {
     "data": {
      "text/plain": [
       "(576, 512)"
      ]
     },
     "execution_count": 14,
     "metadata": {},
     "output_type": "execute_result"
    }
   ],
   "source": [
    "encoding_array.shape"
   ]
  },
  {
   "cell_type": "markdown",
   "id": "c434aad3-9689-4e77-bef7-1daa4400e590",
   "metadata": {},
   "source": [
    "## 保存为本地的.npy文件"
   ]
  },
  {
   "cell_type": "code",
   "execution_count": 15,
   "id": "896a318d-430c-4b59-9c94-0b08ba0106dd",
   "metadata": {},
   "outputs": [],
   "source": [
    "# 保存为本地的 npy 文件\n",
    "np.save('测试集语义特征.npy', encoding_array)"
   ]
  },
  {
   "cell_type": "code",
   "execution_count": null,
   "id": "4417cdc4-0bad-428c-896f-1d35d31401a8",
   "metadata": {},
   "outputs": [],
   "source": []
  }
 ],
 "metadata": {
  "kernelspec": {
   "display_name": "Python 3 (ipykernel)",
   "language": "python",
   "name": "python3"
  },
  "language_info": {
   "codemirror_mode": {
    "name": "ipython",
    "version": 3
   },
   "file_extension": ".py",
   "mimetype": "text/x-python",
   "name": "python",
   "nbconvert_exporter": "python",
   "pygments_lexer": "ipython3",
   "version": "3.7.10"
  }
 },
 "nbformat": 4,
 "nbformat_minor": 5
}
