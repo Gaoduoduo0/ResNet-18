{
 "cells": [
  {
   "cell_type": "markdown",
   "id": "68aa2c39-1a4b-4d3c-ab35-3d44896f2f67",
   "metadata": {},
   "source": [
    "# 安装配置环境\n",
    "\n",
    "同济子豪兄 https://space.bilibili.com/1900783\n",
    "\n",
    "代码运行[云GPU平台](https://featurize.cn/?s=d7ce99f842414bfcaea5662a97581bd1)\n",
    "\n",
    "2023-3-26"
   ]
  },
  {
   "cell_type": "markdown",
   "id": "d56b4a5f-8ec2-4493-8344-580ed67d3d25",
   "metadata": {},
   "source": [
    "## 直接运行代码块即可"
   ]
  },
  {
   "cell_type": "code",
   "execution_count": 3,
   "id": "83c98888-79c0-4f4c-8e64-b9cc65ac797e",
   "metadata": {},
   "outputs": [
    {
     "name": "stdout",
     "output_type": "stream",
     "text": [
      "Looking in indexes: https://pypi.tuna.tsinghua.edu.cn/simple\n",
      "Requirement already satisfied: numpy in /environment/miniconda3/lib/python3.7/site-packages (1.21.4)\n",
      "Requirement already satisfied: pandas in /environment/miniconda3/lib/python3.7/site-packages (1.3.4)\n",
      "Requirement already satisfied: matplotlib in /environment/miniconda3/lib/python3.7/site-packages (3.5.0)\n",
      "Collecting seaborn\n",
      "  Downloading https://pypi.tuna.tsinghua.edu.cn/packages/8f/2e/17bbb83fbf102687bb2aa3d808add39da820a7698159302a1a69bb82e01c/seaborn-0.12.2-py3-none-any.whl (293 kB)\n",
      "\u001b[K     |████████████████████████████████| 293 kB 73.6 MB/s eta 0:00:01\n",
      "\u001b[?25hRequirement already satisfied: plotly in /environment/miniconda3/lib/python3.7/site-packages (5.4.0)\n",
      "Requirement already satisfied: requests in /environment/miniconda3/lib/python3.7/site-packages (2.24.0)\n",
      "Requirement already satisfied: tqdm in /environment/miniconda3/lib/python3.7/site-packages (4.61.2)\n",
      "Requirement already satisfied: opencv-python in /environment/miniconda3/lib/python3.7/site-packages (4.5.4.60)\n",
      "Requirement already satisfied: pillow in /environment/miniconda3/lib/python3.7/site-packages (8.4.0)\n",
      "Collecting wandb\n",
      "  Downloading https://pypi.tuna.tsinghua.edu.cn/packages/a3/65/8af6447adb236c0b487ae44f370cb24c8afda678b5acf7f1cb4469739048/wandb-0.18.7-py3-none-manylinux_2_17_x86_64.manylinux2014_x86_64.whl (16.1 MB)\n",
      "\u001b[K     |████████████████████████████████| 16.1 MB 27.2 MB/s eta 0:00:01\n",
      "\u001b[?25hRequirement already satisfied: pytz>=2017.3 in /environment/miniconda3/lib/python3.7/site-packages (from pandas) (2021.3)\n",
      "Requirement already satisfied: python-dateutil>=2.7.3 in /environment/miniconda3/lib/python3.7/site-packages (from pandas) (2.8.2)\n",
      "Requirement already satisfied: six>=1.5 in /environment/miniconda3/lib/python3.7/site-packages (from python-dateutil>=2.7.3->pandas) (1.16.0)\n",
      "Requirement already satisfied: cycler>=0.10 in /environment/miniconda3/lib/python3.7/site-packages (from matplotlib) (0.11.0)\n",
      "Requirement already satisfied: setuptools-scm>=4 in /environment/miniconda3/lib/python3.7/site-packages (from matplotlib) (6.3.2)\n",
      "Requirement already satisfied: fonttools>=4.22.0 in /environment/miniconda3/lib/python3.7/site-packages (from matplotlib) (4.28.3)\n",
      "Requirement already satisfied: kiwisolver>=1.0.1 in /environment/miniconda3/lib/python3.7/site-packages (from matplotlib) (1.3.2)\n",
      "Requirement already satisfied: pyparsing>=2.2.1 in /environment/miniconda3/lib/python3.7/site-packages (from matplotlib) (3.0.6)\n",
      "Requirement already satisfied: packaging>=20.0 in /environment/miniconda3/lib/python3.7/site-packages (from matplotlib) (21.3)\n",
      "Requirement already satisfied: tomli>=1.0.0 in /environment/miniconda3/lib/python3.7/site-packages (from setuptools-scm>=4->matplotlib) (1.2.2)\n",
      "Requirement already satisfied: setuptools in /environment/miniconda3/lib/python3.7/site-packages (from setuptools-scm>=4->matplotlib) (52.0.0.post20210125)\n",
      "Requirement already satisfied: typing_extensions in /environment/miniconda3/lib/python3.7/site-packages (from seaborn) (4.0.1)\n",
      "Requirement already satisfied: tenacity>=6.2.0 in /environment/miniconda3/lib/python3.7/site-packages (from plotly) (8.0.1)\n",
      "Requirement already satisfied: idna<3,>=2.5 in /environment/miniconda3/lib/python3.7/site-packages (from requests) (2.10)\n",
      "Requirement already satisfied: certifi>=2017.4.17 in /environment/miniconda3/lib/python3.7/site-packages (from requests) (2021.5.30)\n",
      "Requirement already satisfied: urllib3!=1.25.0,!=1.25.1,<1.26,>=1.21.1 in /environment/miniconda3/lib/python3.7/site-packages (from requests) (1.25.11)\n",
      "Requirement already satisfied: chardet<4,>=3.0.2 in /environment/miniconda3/lib/python3.7/site-packages (from requests) (3.0.4)\n",
      "Collecting docker-pycreds>=0.4.0\n",
      "  Downloading https://pypi.tuna.tsinghua.edu.cn/packages/f5/e8/f6bd1eee09314e7e6dee49cbe2c5e22314ccdb38db16c9fc72d2fa80d054/docker_pycreds-0.4.0-py2.py3-none-any.whl (9.0 kB)\n",
      "Collecting psutil>=5.0.0\n",
      "  Downloading https://pypi.tuna.tsinghua.edu.cn/packages/bf/b9/b0eb3f3cbcb734d930fdf839431606844a825b23eaf9a6ab371edac8162c/psutil-7.0.0-cp36-abi3-manylinux_2_12_x86_64.manylinux2010_x86_64.manylinux_2_17_x86_64.manylinux2014_x86_64.whl (277 kB)\n",
      "\u001b[K     |████████████████████████████████| 277 kB 76.3 MB/s eta 0:00:01\n",
      "\u001b[?25hCollecting sentry-sdk>=2.0.0\n",
      "  Downloading https://pypi.tuna.tsinghua.edu.cn/packages/5a/99/31ac6faaae33ea698086692638f58d14f121162a8db0039e68e94135e7f1/sentry_sdk-2.30.0-py2.py3-none-any.whl (343 kB)\n",
      "\u001b[K     |████████████████████████████████| 343 kB 73.7 MB/s eta 0:00:01\n",
      "\u001b[?25hRequirement already satisfied: protobuf!=4.21.0,!=5.28.0,<6,>=3.12.0 in /environment/miniconda3/lib/python3.7/site-packages (from wandb) (3.19.1)\n",
      "Requirement already satisfied: pyyaml in /environment/miniconda3/lib/python3.7/site-packages (from wandb) (6.0)\n",
      "Collecting setproctitle\n",
      "  Downloading https://pypi.tuna.tsinghua.edu.cn/packages/66/bf/620ee20caa0c5c1592af7c72dd3339714e2e7b50f97a47e53e3e65b56d6c/setproctitle-1.3.3-cp37-cp37m-manylinux_2_5_x86_64.manylinux1_x86_64.manylinux_2_17_x86_64.manylinux2014_x86_64.whl (30 kB)\n",
      "Requirement already satisfied: platformdirs in /environment/miniconda3/lib/python3.7/site-packages (from wandb) (2.4.0)\n",
      "Collecting typing_extensions\n",
      "  Downloading https://pypi.tuna.tsinghua.edu.cn/packages/ec/6b/63cc3df74987c36fe26157ee12e09e8f9db4de771e0f3404263117e75b95/typing_extensions-4.7.1-py3-none-any.whl (33 kB)\n",
      "Collecting gitpython!=3.1.29,>=1.0.0\n",
      "  Downloading https://pypi.tuna.tsinghua.edu.cn/packages/1d/9a/4114a9057db2f1462d5c8f8390ab7383925fe1ac012eaa42402ad65c2963/GitPython-3.1.44-py3-none-any.whl (207 kB)\n",
      "\u001b[K     |████████████████████████████████| 207 kB 81.9 MB/s eta 0:00:01\n",
      "\u001b[?25hRequirement already satisfied: click!=8.0.0,>=7.1 in /environment/miniconda3/lib/python3.7/site-packages (from wandb) (7.1.2)\n",
      "Collecting gitdb<5,>=4.0.1\n",
      "  Downloading https://pypi.tuna.tsinghua.edu.cn/packages/a0/61/5c78b91c3143ed5c14207f463aecfc8f9dbb5092fb2869baf37c273b2705/gitdb-4.0.12-py3-none-any.whl (62 kB)\n",
      "\u001b[K     |████████████████████████████████| 62 kB 2.6 MB/s  eta 0:00:01\n",
      "\u001b[?25hCollecting smmap<6,>=3.0.1\n",
      "  Downloading https://pypi.tuna.tsinghua.edu.cn/packages/04/be/d09147ad1ec7934636ad912901c5fd7667e1c858e19d355237db0d0cd5e4/smmap-5.0.2-py3-none-any.whl (24 kB)\n",
      "Collecting sentry-sdk>=2.0.0\n",
      "  Downloading https://pypi.tuna.tsinghua.edu.cn/packages/f0/e5/da07b0bd832cefd52d16f2b9bbbe31624d57552602c06631686b93ccb1bd/sentry_sdk-2.29.1-py2.py3-none-any.whl (341 kB)\n",
      "\u001b[K     |████████████████████████████████| 341 kB 76.0 MB/s eta 0:00:01\n",
      "\u001b[?25h  Downloading https://pypi.tuna.tsinghua.edu.cn/packages/9d/cf/fa451f0518f76b21f209a71684738a3c9aa0e36ead786a5f806c3092e647/sentry_sdk-2.29.0-py2.py3-none-any.whl (341 kB)\n",
      "\u001b[K     |████████████████████████████████| 341 kB 78.4 MB/s eta 0:00:01\n",
      "\u001b[?25h  Downloading https://pypi.tuna.tsinghua.edu.cn/packages/9b/4e/b1575833094c088dfdef63fbca794518860fcbc8002aadf51ebe8b6a387f/sentry_sdk-2.28.0-py2.py3-none-any.whl (341 kB)\n",
      "\u001b[K     |████████████████████████████████| 341 kB 79.3 MB/s eta 0:00:01\n",
      "\u001b[?25h  Downloading https://pypi.tuna.tsinghua.edu.cn/packages/dd/8b/fb496a45854e37930b57564a20fb8e90dd0f8b6add0491527c00f2163b00/sentry_sdk-2.27.0-py2.py3-none-any.whl (340 kB)\n",
      "\u001b[K     |████████████████████████████████| 340 kB 74.3 MB/s eta 0:00:01\n",
      "\u001b[?25h  Downloading https://pypi.tuna.tsinghua.edu.cn/packages/23/32/0a30b4fafdb3d26d133f99bb566aaa6000004ee7f2c4b72aafea9237ab7e/sentry_sdk-2.26.1-py2.py3-none-any.whl (340 kB)\n",
      "\u001b[K     |████████████████████████████████| 340 kB 83.2 MB/s eta 0:00:01\n",
      "\u001b[?25h  Downloading https://pypi.tuna.tsinghua.edu.cn/packages/dd/da/195136b1113e5bc34f31ba04a345bc15c1e66a4eacfc1b317de111abe8c5/sentry_sdk-2.26.0-py2.py3-none-any.whl (340 kB)\n",
      "\u001b[K     |████████████████████████████████| 340 kB 82.1 MB/s eta 0:00:01\n",
      "\u001b[?25h  Downloading https://pypi.tuna.tsinghua.edu.cn/packages/96/b6/84049ab0967affbc7cc7590d86ae0170c1b494edb69df8786707100420e5/sentry_sdk-2.25.1-py2.py3-none-any.whl (339 kB)\n",
      "\u001b[K     |████████████████████████████████| 339 kB 84.9 MB/s eta 0:00:01\n",
      "\u001b[?25h  Downloading https://pypi.tuna.tsinghua.edu.cn/packages/7f/3f/3d2ad64b82c09fdf7a4a38289e0f4e0da1add985455b6360aa1c8518bc85/sentry_sdk-2.25.0-py2.py3-none-any.whl (338 kB)\n",
      "\u001b[K     |████████████████████████████████| 338 kB 83.7 MB/s eta 0:00:01\n",
      "\u001b[?25h  Downloading https://pypi.tuna.tsinghua.edu.cn/packages/65/95/91137ffe7a5956496155af5ffbe45ee4ddfa795a569136147e766abd14b1/sentry_sdk-2.24.1-py2.py3-none-any.whl (336 kB)\n",
      "\u001b[K     |████████████████████████████████| 336 kB 81.1 MB/s eta 0:00:01\n",
      "\u001b[?25h  Downloading https://pypi.tuna.tsinghua.edu.cn/packages/c4/5d/dbfbda95daa8fdb22276513f930269149b338b67efb9ebf24ebf6d62ca9a/sentry_sdk-2.24.0-py2.py3-none-any.whl (336 kB)\n",
      "\u001b[K     |████████████████████████████████| 336 kB 79.9 MB/s eta 0:00:01\n",
      "\u001b[?25h  Downloading https://pypi.tuna.tsinghua.edu.cn/packages/4e/00/9a9a2ab9020ee824d787f7e82a539305bf926393fe139baedbcf34356770/sentry_sdk-2.23.1-py2.py3-none-any.whl (336 kB)\n",
      "\u001b[K     |████████████████████████████████| 336 kB 79.6 MB/s eta 0:00:01\n",
      "\u001b[?25h  Downloading https://pypi.tuna.tsinghua.edu.cn/packages/12/7f/0e4459173e9671ba5f75a48dda2442bcc48a12c79e54e5789381c8c6a9bc/sentry_sdk-2.22.0-py2.py3-none-any.whl (325 kB)\n",
      "\u001b[K     |████████████████████████████████| 325 kB 80.4 MB/s eta 0:00:01\n",
      "\u001b[?25h  Downloading https://pypi.tuna.tsinghua.edu.cn/packages/a4/18/7587660cb5e4d07134913d8e74137efcd4903fda873bf612c30eb34c7ab4/sentry_sdk-2.21.0-py2.py3-none-any.whl (324 kB)\n",
      "\u001b[K     |████████████████████████████████| 324 kB 81.7 MB/s eta 0:00:01\n",
      "\u001b[?25h  Downloading https://pypi.tuna.tsinghua.edu.cn/packages/e6/0f/6f7e6cd0f4a141752caef3f79300148422fdf2b8b68b531f30b2b0c0cbda/sentry_sdk-2.20.0-py2.py3-none-any.whl (322 kB)\n",
      "\u001b[K     |████████████████████████████████| 322 kB 73.9 MB/s eta 0:00:01\n",
      "\u001b[?25h  Downloading https://pypi.tuna.tsinghua.edu.cn/packages/31/4d/74597bb6bcc23abc774b8901277652c61331a9d4d0a8d1bdb20679b9bbcb/sentry_sdk-2.19.2-py2.py3-none-any.whl (322 kB)\n",
      "\u001b[K     |████████████████████████████████| 322 kB 82.7 MB/s eta 0:00:01\n",
      "\u001b[?25h  Downloading https://pypi.tuna.tsinghua.edu.cn/packages/9c/b1/b03f54c8b379d493bd19f9dca241efdd17f77a8f7a34b80c2d4417dfc7b7/sentry_sdk-2.19.1-py2.py3-none-any.whl (322 kB)\n",
      "\u001b[K     |████████████████████████████████| 322 kB 83.7 MB/s eta 0:00:01\n",
      "\u001b[?25h  Downloading https://pypi.tuna.tsinghua.edu.cn/packages/c6/6b/191ca63f05d3ecc7600b5b3abd493a4c1b8468289c9737a7735ade1fedca/sentry_sdk-2.19.0-py2.py3-none-any.whl (322 kB)\n",
      "\u001b[K     |████████████████████████████████| 322 kB 75.9 MB/s eta 0:00:01\n",
      "\u001b[?25h  Downloading https://pypi.tuna.tsinghua.edu.cn/packages/76/9b/2d512efdb0de203d1f0312fae53433c3009ba70b0078421d25baaedc960a/sentry_sdk-2.18.0-py2.py3-none-any.whl (317 kB)\n",
      "\u001b[K     |████████████████████████████████| 317 kB 76.2 MB/s eta 0:00:01\n",
      "\u001b[?25h  Downloading https://pypi.tuna.tsinghua.edu.cn/packages/10/63/8e80fff3aa15488bc332ede44165a397a29bb13ec4a4b2236299e3b66067/sentry_sdk-2.17.0-py2.py3-none-any.whl (314 kB)\n",
      "\u001b[K     |████████████████████████████████| 314 kB 68.5 MB/s eta 0:00:01\n",
      "\u001b[?25h  Downloading https://pypi.tuna.tsinghua.edu.cn/packages/b3/aa/9f8dce2aec2e95d48c057ff3bcac48958cd15f67d4e9e80e74b46c324abf/sentry_sdk-2.16.0-py2.py3-none-any.whl (313 kB)\n",
      "\u001b[K     |████████████████████████████████| 313 kB 81.5 MB/s eta 0:00:01\n",
      "\u001b[?25h  Downloading https://pypi.tuna.tsinghua.edu.cn/packages/41/22/88712c958160e5a5c9fc63229d953feec44db1dda30109ece4d357edb41d/sentry_sdk-2.15.0-py2.py3-none-any.whl (310 kB)\n",
      "\u001b[K     |████████████████████████████████| 310 kB 75.6 MB/s eta 0:00:01\n",
      "\u001b[?25h  Downloading https://pypi.tuna.tsinghua.edu.cn/packages/40/de/956ce1d71459fa1af0486ca141fc605ac16f7c8855750668ff663e2b436a/sentry_sdk-2.14.0-py2.py3-none-any.whl (311 kB)\n",
      "\u001b[K     |████████████████████████████████| 311 kB 82.4 MB/s eta 0:00:01\n",
      "\u001b[?25h  Downloading https://pypi.tuna.tsinghua.edu.cn/packages/ad/7e/e9ca09f24a6c334286631a2d32c267cdc5edad5ac03fd9d20a01a82f1c35/sentry_sdk-2.13.0-py2.py3-none-any.whl (309 kB)\n",
      "\u001b[K     |████████████████████████████████| 309 kB 83.4 MB/s eta 0:00:01\n",
      "\u001b[?25h  Downloading https://pypi.tuna.tsinghua.edu.cn/packages/71/29/744921222eb1bfef7a7e16e71fc122f518b315fc57624828b90028dfa02e/sentry_sdk-2.12.0-py2.py3-none-any.whl (301 kB)\n",
      "\u001b[K     |████████████████████████████████| 301 kB 85.2 MB/s eta 0:00:01\n",
      "\u001b[?25h  Downloading https://pypi.tuna.tsinghua.edu.cn/packages/bc/3c/a8ab3309d22c1d7142f811882e7d45449696f87c6e4e723b1433b6069b84/sentry_sdk-2.11.0-py2.py3-none-any.whl (303 kB)\n",
      "\u001b[K     |████████████████████████████████| 303 kB 86.7 MB/s eta 0:00:01\n",
      "\u001b[?25h  Downloading https://pypi.tuna.tsinghua.edu.cn/packages/4f/9e/9298785949269c8930e1fd3707b960da6e1a95a2442b747b8f8cca4578cb/sentry_sdk-2.10.0-py2.py3-none-any.whl (302 kB)\n",
      "\u001b[K     |████████████████████████████████| 302 kB 84.1 MB/s eta 0:00:01\n",
      "\u001b[?25h  Downloading https://pypi.tuna.tsinghua.edu.cn/packages/46/22/249d158f9497231cd24e2829049b2c3e82841ec81b0a98b6f722357d5fed/sentry_sdk-2.9.0-py2.py3-none-any.whl (301 kB)\n",
      "\u001b[K     |████████████████████████████████| 301 kB 81.4 MB/s eta 0:00:01\n",
      "\u001b[?25h  Downloading https://pypi.tuna.tsinghua.edu.cn/packages/80/f4/8e1be145ce63c4ef4e126ee362992ae1ada5e716723883912b74829583e7/sentry_sdk-2.8.0-py2.py3-none-any.whl (300 kB)\n",
      "\u001b[K     |████████████████████████████████| 300 kB 76.4 MB/s eta 0:00:01\n",
      "\u001b[?25h  Downloading https://pypi.tuna.tsinghua.edu.cn/packages/90/6a/a7d19d776ba9899c97acb223ceba4080ef9f5de9d7599203ae64b56ed597/sentry_sdk-2.7.1-py2.py3-none-any.whl (300 kB)\n",
      "\u001b[K     |████████████████████████████████| 300 kB 84.3 MB/s eta 0:00:01\n",
      "\u001b[?25h  Downloading https://pypi.tuna.tsinghua.edu.cn/packages/7c/e0/97f1bee2a80886ef303be9abecedad1b51e501e1c11d19ff2d6cd6f5e8c9/sentry_sdk-2.7.0-py2.py3-none-any.whl (300 kB)\n",
      "\u001b[K     |████████████████████████████████| 300 kB 79.1 MB/s eta 0:00:01\n",
      "\u001b[?25h  Downloading https://pypi.tuna.tsinghua.edu.cn/packages/c2/ab/522cf99db4905094a6e0ae6e2661a2a9e4890a1d3991b5bf45e206637721/sentry_sdk-2.6.0-py2.py3-none-any.whl (296 kB)\n",
      "\u001b[K     |████████████████████████████████| 296 kB 81.2 MB/s eta 0:00:01\n",
      "\u001b[?25h  Downloading https://pypi.tuna.tsinghua.edu.cn/packages/19/8b/50703b5f83b008ba070eb8291b0e9877ac4b6ca878cfe70c5ed5c1c782ee/sentry_sdk-2.5.1-py2.py3-none-any.whl (289 kB)\n",
      "\u001b[K     |████████████████████████████████| 289 kB 79.6 MB/s eta 0:00:01\n",
      "\u001b[?25h  Downloading https://pypi.tuna.tsinghua.edu.cn/packages/07/94/0a6089d7b39cf1f23618edd254ad641417784dcd28272d0be6fca3e1b31a/sentry_sdk-2.5.0-py2.py3-none-any.whl (289 kB)\n",
      "\u001b[K     |████████████████████████████████| 289 kB 81.8 MB/s eta 0:00:01\n",
      "\u001b[?25h  Downloading https://pypi.tuna.tsinghua.edu.cn/packages/b8/49/9dcb0c75dbfc0495735108abb11e3d0e18a7caaa89b7f8ce2afe2e782514/sentry_sdk-2.4.0-py2.py3-none-any.whl (289 kB)\n",
      "\u001b[K     |████████████████████████████████| 289 kB 86.6 MB/s eta 0:00:01\n",
      "\u001b[?25h  Downloading https://pypi.tuna.tsinghua.edu.cn/packages/25/18/9783ccc5faddc0edef492046a00164e3c2e698ef5302c85d805aa644e017/sentry_sdk-2.3.1-py2.py3-none-any.whl (289 kB)\n",
      "\u001b[K     |████████████████████████████████| 289 kB 69.1 MB/s eta 0:00:01\n",
      "\u001b[?25h^C\n",
      "\u001b[31mERROR: Operation cancelled by user\u001b[0m\n"
     ]
    }
   ],
   "source": [
    "!pip install numpy pandas matplotlib seaborn plotly requests tqdm opencv-python pillow wandb -i https://pypi.tuna.tsinghua.edu.cn/simple"
   ]
  },
  {
   "cell_type": "markdown",
   "id": "f34acebb-ad33-4775-a842-3df6e4cce3fb",
   "metadata": {},
   "source": [
    "## 下载安装Pytorch"
   ]
  },
  {
   "cell_type": "code",
   "execution_count": 4,
   "id": "f9c9f8de-2c5e-477e-8893-f1435e3ff331",
   "metadata": {},
   "outputs": [
    {
     "name": "stdout",
     "output_type": "stream",
     "text": [
      "Looking in indexes: https://pypi.tuna.tsinghua.edu.cn/simple, https://download.pytorch.org/whl/cu113\n",
      "Requirement already satisfied: torch in /environment/miniconda3/lib/python3.7/site-packages (1.10.0+cu113)\n",
      "Requirement already satisfied: torchvision in /environment/miniconda3/lib/python3.7/site-packages (0.11.1+cu113)\n",
      "Requirement already satisfied: torchaudio in /environment/miniconda3/lib/python3.7/site-packages (0.10.0+cu113)\n",
      "Requirement already satisfied: typing-extensions in /environment/miniconda3/lib/python3.7/site-packages (from torch) (4.0.1)\n",
      "Requirement already satisfied: numpy in /environment/miniconda3/lib/python3.7/site-packages (from torchvision) (1.21.4)\n",
      "Requirement already satisfied: pillow!=8.3.0,>=5.3.0 in /environment/miniconda3/lib/python3.7/site-packages (from torchvision) (8.4.0)\n"
     ]
    }
   ],
   "source": [
    "!pip3 install torch torchvision torchaudio --extra-index-url https://download.pytorch.org/whl/cu113"
   ]
  },
  {
   "cell_type": "markdown",
   "id": "4df3fa7c-23d2-4db1-a12f-8fafbe96b16d",
   "metadata": {},
   "source": [
    "## 下载中文字体文件"
   ]
  },
  {
   "cell_type": "code",
   "execution_count": 5,
   "id": "a18e57f9-0ece-4d34-a0fd-0642a778a3b6",
   "metadata": {},
   "outputs": [
    {
     "name": "stdout",
     "output_type": "stream",
     "text": [
      "--2025-06-14 21:45:01--  https://zihao-openmmlab.obs.cn-east-3.myhuaweicloud.com/20220716-mmclassification/dataset/SimHei.ttf\n",
      "正在连接 172.16.0.13:5848... 已连接。\n",
      "已发出 Proxy 请求，正在等待回应... 200 OK\n",
      "长度： 10050868 (9.6M) [application/x-font-ttf]\n",
      "正在保存至: “SimHei.ttf”\n",
      "\n",
      "SimHei.ttf            3%[                    ] 328.00K  1.58MB/s               ^C\n"
     ]
    }
   ],
   "source": [
    "!wget https://zihao-openmmlab.obs.cn-east-3.myhuaweicloud.com/20220716-mmclassification/dataset/SimHei.ttf --no-check-certificate\n"
   ]
  },
  {
   "cell_type": "markdown",
   "id": "5628a6f7-e356-4d45-95ee-17fcb316b3c7",
   "metadata": {},
   "source": [
    "## 创建目录"
   ]
  },
  {
   "cell_type": "code",
   "execution_count": 15,
   "id": "d149db7a-5f6e-4513-b5c2-72fdf3eb3e2a",
   "metadata": {},
   "outputs": [],
   "source": [
    "import os"
   ]
  },
  {
   "cell_type": "code",
   "execution_count": 16,
   "id": "97a32738-da46-4b63-8b37-8a37dbf79602",
   "metadata": {},
   "outputs": [
    {
     "ename": "FileExistsError",
     "evalue": "[Errno 17] File exists: 'checkpoint'",
     "output_type": "error",
     "traceback": [
      "\u001b[0;31m---------------------------------------------------------------------------\u001b[0m",
      "\u001b[0;31mFileExistsError\u001b[0m                           Traceback (most recent call last)",
      "\u001b[0;32m/tmp/ipykernel_19408/1700759215.py\u001b[0m in \u001b[0;36m<module>\u001b[0;34m\u001b[0m\n\u001b[1;32m      3\u001b[0m \u001b[0;34m\u001b[0m\u001b[0m\n\u001b[1;32m      4\u001b[0m \u001b[0;31m# 存放训练得到的模型权重\u001b[0m\u001b[0;34m\u001b[0m\u001b[0;34m\u001b[0m\u001b[0;34m\u001b[0m\u001b[0m\n\u001b[0;32m----> 5\u001b[0;31m \u001b[0mos\u001b[0m\u001b[0;34m.\u001b[0m\u001b[0mmkdir\u001b[0m\u001b[0;34m(\u001b[0m\u001b[0;34m'checkpoint'\u001b[0m\u001b[0;34m)\u001b[0m\u001b[0;34m\u001b[0m\u001b[0;34m\u001b[0m\u001b[0m\n\u001b[0m\u001b[1;32m      6\u001b[0m \u001b[0;31m# 特别注意，不要把文件夹命名成 checkpoints （不要在最后加 s） ，否则在 Jupyter 中打不开，只能压缩后下载压缩包到本地才能打开\u001b[0m\u001b[0;34m\u001b[0m\u001b[0;34m\u001b[0m\u001b[0;34m\u001b[0m\u001b[0m\n\u001b[1;32m      7\u001b[0m \u001b[0;34m\u001b[0m\u001b[0m\n",
      "\u001b[0;31mFileExistsError\u001b[0m: [Errno 17] File exists: 'checkpoint'"
     ]
    }
   ],
   "source": [
    "# 存放结果文件\n",
    "# os.mkdir('output')\n",
    "\n",
    "# 存放训练得到的模型权重\n",
    "os.mkdir('checkpoint')\n",
    "# 特别注意，不要把文件夹命名成 checkpoints （不要在最后加 s） ，否则在 Jupyter 中打不开，只能压缩后下载压缩包到本地才能打开\n",
    "\n",
    "# 存放生成的图表\n",
    "os.mkdir('图表')"
   ]
  },
  {
   "cell_type": "markdown",
   "id": "5d2dab62-639f-407d-900b-5378a7e631b3",
   "metadata": {},
   "source": [
    "## 设置matplotlib中文字体"
   ]
  },
  {
   "cell_type": "code",
   "execution_count": 17,
   "id": "12f5d4c9-aa6c-41ce-9094-08118eb6fba1",
   "metadata": {},
   "outputs": [],
   "source": [
    "import matplotlib.pyplot as plt\n",
    "%matplotlib inline"
   ]
  },
  {
   "cell_type": "code",
   "execution_count": 18,
   "id": "875f443b-c943-42fe-bb3b-9dfbf01f28f8",
   "metadata": {},
   "outputs": [],
   "source": [
    "# # windows操作系统\n",
    "# plt.rcParams['font.sans-serif']=['SimHei']  # 用来正常显示中文标签 \n",
    "# plt.rcParams['axes.unicode_minus']=False  # 用来正常显示负号"
   ]
  },
  {
   "cell_type": "code",
   "execution_count": 19,
   "id": "b693a006-5a40-49b7-b1da-a2f4e822f140",
   "metadata": {},
   "outputs": [],
   "source": [
    "# Mac操作系统，参考 https://www.ngui.cc/51cto/show-727683.html\n",
    "# 下载 simhei.ttf 字体文件\n",
    "# !wget https://zihao-openmmlab.obs.cn-east-3.myhuaweicloud.com/20220716-mmclassification/dataset/SimHei.ttf"
   ]
  },
  {
   "cell_type": "code",
   "execution_count": 20,
   "id": "ec933a1e-fb24-48ac-a945-69f2149c5301",
   "metadata": {},
   "outputs": [
    {
     "name": "stdout",
     "output_type": "stream",
     "text": [
      "--2025-06-14 21:45:22--  https://zihao-openmmlab.obs.cn-east-3.myhuaweicloud.com/20220716-mmclassification/dataset/SimHei.ttf\n",
      "正在连接 172.16.0.13:5848... 已连接。\n",
      "已发出 Proxy 请求，正在等待回应... 200 OK\n",
      "长度： 10050868 (9.6M) [application/x-font-ttf]\n",
      "正在保存至: “/environment/miniconda3/lib/python3.7/site-packages/matplotlib/mpl-data/fonts/ttf/SimHei.ttf”\n",
      "\n",
      "/environment/minico 100%[===================>]   9.58M  15.3MB/s    用时 0.6s    \n",
      "\n",
      "2025-06-14 21:45:23 (15.3 MB/s) - 已保存 “/environment/miniconda3/lib/python3.7/site-packages/matplotlib/mpl-data/fonts/ttf/SimHei.ttf” [10050868/10050868])\n",
      "\n"
     ]
    }
   ],
   "source": [
    "# Linux操作系统，例如 云GPU平台：https://featurize.cn/?s=d7ce99f842414bfcaea5662a97581bd1\n",
    "# 如果报错 Unable to establish SSL connection.，重新运行本代码块即可\n",
    "!wget https://zihao-openmmlab.obs.cn-east-3.myhuaweicloud.com/20220716-mmclassification/dataset/SimHei.ttf -O /environment/miniconda3/lib/python3.7/site-packages/matplotlib/mpl-data/fonts/ttf/SimHei.ttf --no-check-certificate\n",
    "!rm -rf /home/featurize/.cache/matplotlib\n",
    "\n",
    "import matplotlib\n",
    "import matplotlib.pyplot as plt\n",
    "%matplotlib inline\n",
    "matplotlib.rc(\"font\",family='SimHei') # 中文字体\n",
    "plt.rcParams['axes.unicode_minus']=False  # 用来正常显示负号"
   ]
  },
  {
   "cell_type": "code",
   "execution_count": 21,
   "id": "da0ce49d-5ff5-471d-b19e-4037a2e1dd20",
   "metadata": {},
   "outputs": [
    {
     "data": {
      "image/png": "[encoded data removed]",
      "text/plain": [
       "<Figure size 432x288 with 1 Axes>"
      ]
     },
     "metadata": {
      "needs_background": "light"
     },
     "output_type": "display_data"
    }
   ],
   "source": [
    "plt.plot([1,2,3], [100,500,300])\n",
    "plt.title('matplotlib中文字体测试', fontsize=25)\n",
    "plt.xlabel('X轴', fontsize=15)\n",
    "plt.ylabel('Y轴', fontsize=15)\n",
    "plt.show()"
   ]
  },
  {
   "cell_type": "code",
   "execution_count": null,
   "id": "9bdd3de9-0be3-4591-9c66-54ca9b870b16",
   "metadata": {},
   "outputs": [],
   "source": []
  },
  {
   "cell_type": "code",
   "execution_count": null,
   "id": "9db38624-f663-4777-af8d-ba0346883374",
   "metadata": {},
   "outputs": [],
   "source": []
  },
  {
   "cell_type": "code",
   "execution_count": null,
   "id": "59fd5e22-e7bc-4256-abf2-37961e967df5",
   "metadata": {},
   "outputs": [],
   "source": []
  }
 ],
 "metadata": {
  "kernelspec": {
   "display_name": "Python 3 (ipykernel)",
   "language": "python",
   "name": "python3"
  },
  "language_info": {
   "codemirror_mode": {
    "name": "ipython",
    "version": 3
   },
   "file_extension": ".py",
   "mimetype": "text/x-python",
   "name": "python",
   "nbconvert_exporter": "python",
   "pygments_lexer": "ipython3",
   "version": "3.7.10"
  }
 },
 "nbformat": 4,
 "nbformat_minor": 5
}
