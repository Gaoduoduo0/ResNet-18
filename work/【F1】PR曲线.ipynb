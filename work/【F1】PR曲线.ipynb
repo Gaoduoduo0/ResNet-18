{
 "cells": [
  {
   "cell_type": "markdown",
   "id": "07828ece-a925-4b15-90a4-463c9f20a6e9",
   "metadata": {},
   "source": [
    "# PR曲线"
   ]
  },
  {
   "cell_type": "markdown",
   "id": "ac088d1e-91be-41c5-942f-ddaa57bf6951",
   "metadata": {
    "tags": []
   },
   "source": [
    "## 设置Matplotlib中文字体"
   ]
  },
  {
   "cell_type": "code",
   "execution_count": 1,
   "id": "735410e9-f936-4d1b-8d6c-e42373af1690",
   "metadata": {},
   "outputs": [],
   "source": [
    "import matplotlib.pyplot as plt\n",
    "%matplotlib inline"
   ]
  },
  {
   "cell_type": "code",
   "execution_count": 2,
   "id": "edd66105-2eb7-4d7f-940b-2886b2f040b9",
   "metadata": {},
   "outputs": [],
   "source": [
    "# # windows操作系统\n",
    "# plt.rcParams['font.sans-serif']=['SimHei']  # 用来正常显示中文标签 \n",
    "# plt.rcParams['axes.unicode_minus']=False  # 用来正常显示负号"
   ]
  },
  {
   "cell_type": "code",
   "execution_count": 3,
   "id": "2af8e027-b2f1-43ec-913b-a2e067c98f7f",
   "metadata": {},
   "outputs": [],
   "source": [
    "# Mac操作系统，参考 https://www.ngui.cc/51cto/show-727683.html\n",
    "# 下载 simhei.ttf 字体文件\n",
    "# !wget https://zihao-openmmlab.obs.cn-east-3.myhuaweicloud.com/20220716-mmclassification/dataset/SimHei.ttf"
   ]
  },
  {
   "cell_type": "code",
   "execution_count": 4,
   "id": "b2b4469a-fb29-43c4-9c55-c9e784a5e003",
   "metadata": {},
   "outputs": [
    {
     "name": "stdout",
     "output_type": "stream",
     "text": [
      "--2025-06-27 15:43:32--  https://zihao-openmmlab.obs.cn-east-3.myhuaweicloud.com/20220716-mmclassification/dataset/SimHei.ttf\n",
      "正在连接 172.16.0.13:5848... 已连接。\n",
      "已发出 Proxy 请求，正在等待回应... 200 OK\n",
      "长度： 10050868 (9.6M) [application/x-font-ttf]\n",
      "正在保存至: “/environment/miniconda3/lib/python3.7/site-packages/matplotlib/mpl-data/fonts/ttf/SimHei.ttf”\n",
      "\n",
      "/environment/minico 100%[===================>]   9.58M  17.0MB/s    用时 0.6s    \n",
      "\n",
      "2025-06-27 15:43:33 (17.0 MB/s) - 已保存 “/environment/miniconda3/lib/python3.7/site-packages/matplotlib/mpl-data/fonts/ttf/SimHei.ttf” [10050868/10050868])\n",
      "\n"
     ]
    }
   ],
   "source": [
    "# Linux操作系统，例如 云GPU平台：https://featurize.cn/?s=d7ce99f842414bfcaea5662a97581bd1\n",
    "# 如果遇到 SSL 相关报错，重新运行本代码块即可\n",
    "!wget https://zihao-openmmlab.obs.cn-east-3.myhuaweicloud.com/20220716-mmclassification/dataset/SimHei.ttf -O /environment/miniconda3/lib/python3.7/site-packages/matplotlib/mpl-data/fonts/ttf/SimHei.ttf\n",
    "!rm -rf /home/featurize/.cache/matplotlib\n",
    "\n",
    "import matplotlib\n",
    "matplotlib.rc(\"font\",family='SimHei') # 中文字体"
   ]
  },
  {
   "cell_type": "code",
   "execution_count": 5,
   "id": "dd87ebc0-7837-42fc-8249-058c23f071be",
   "metadata": {},
   "outputs": [
    {
     "data": {
      "image/png": "[encoded data removed]",
      "text/plain": [
       "<Figure size 432x288 with 1 Axes>"
      ]
     },
     "metadata": {
      "needs_background": "light"
     },
     "output_type": "display_data"
    }
   ],
   "source": [
    "plt.plot([1,2,3], [100,500,300])\n",
    "plt.title('matplotlib中文字体测试', fontsize=25)\n",
    "plt.xlabel('X轴', fontsize=15)\n",
    "plt.ylabel('Y轴', fontsize=15)\n",
    "plt.show()"
   ]
  },
  {
   "cell_type": "markdown",
   "id": "a9d9eb4d-c647-4861-b129-04522e65787d",
   "metadata": {},
   "source": [
    "## 导入工具包"
   ]
  },
  {
   "cell_type": "code",
   "execution_count": 6,
   "id": "fb20250c-a251-4ab0-9036-9880e7157a60",
   "metadata": {},
   "outputs": [],
   "source": [
    "import pandas as pd\n",
    "import numpy as np\n",
    "\n",
    "import matplotlib.pyplot as plt\n",
    "%matplotlib inline"
   ]
  },
  {
   "cell_type": "markdown",
   "id": "7190f713-522f-42ca-a3ff-c5f63aa26ffa",
   "metadata": {},
   "source": [
    "## 载入类别名称和ID"
   ]
  },
  {
   "cell_type": "code",
   "execution_count": 7,
   "id": "05eca3be-df80-405b-b9a0-94d73e3b0be9",
   "metadata": {},
   "outputs": [
    {
     "name": "stdout",
     "output_type": "stream",
     "text": [
      "['乌龟', '仓鼠', '兔子', '狗', '猫', '金鱼', '鹦鹉']\n"
     ]
    }
   ],
   "source": [
    "idx_to_labels = np.load('idx_to_labels.npy', allow_pickle=True).item()\n",
    "# 获得类别名称\n",
    "classes = list(idx_to_labels.values())\n",
    "print(classes)"
   ]
  },
  {
   "cell_type": "markdown",
   "id": "639f560d-e43b-4ced-8cc4-220db13f1efd",
   "metadata": {},
   "source": [
    "## 载入测试集预测结果表格"
   ]
  },
  {
   "cell_type": "code",
   "execution_count": 8,
   "id": "37971908-361d-49f3-bd6c-e06eb01da58c",
   "metadata": {},
   "outputs": [],
   "source": [
    "df = pd.read_csv('测试集预测结果.csv')"
   ]
  },
  {
   "cell_type": "code",
   "execution_count": 9,
   "id": "1f641133-b9aa-495d-a995-6235dd116600",
   "metadata": {},
   "outputs": [
    {
     "data": {
      "text/html": [
       "<div>\n",
       "<style scoped>\n",
       "    .dataframe tbody tr th:only-of-type {\n",
       "        vertical-align: middle;\n",
       "    }\n",
       "\n",
       "    .dataframe tbody tr th {\n",
       "        vertical-align: top;\n",
       "    }\n",
       "\n",
       "    .dataframe thead th {\n",
       "        text-align: right;\n",
       "    }\n",
       "</style>\n",
       "<table border=\"1\" class=\"dataframe\">\n",
       "  <thead>\n",
       "    <tr style=\"text-align: right;\">\n",
       "      <th></th>\n",
       "      <th>图像路径</th>\n",
       "      <th>标注类别ID</th>\n",
       "      <th>标注类别名称</th>\n",
       "      <th>top-1-预测ID</th>\n",
       "      <th>top-1-预测名称</th>\n",
       "      <th>top-2-预测ID</th>\n",
       "      <th>top-2-预测名称</th>\n",
       "      <th>top-3-预测ID</th>\n",
       "      <th>top-3-预测名称</th>\n",
       "      <th>top-n预测正确</th>\n",
       "      <th>乌龟-预测置信度</th>\n",
       "      <th>仓鼠-预测置信度</th>\n",
       "      <th>兔子-预测置信度</th>\n",
       "      <th>狗-预测置信度</th>\n",
       "      <th>猫-预测置信度</th>\n",
       "      <th>金鱼-预测置信度</th>\n",
       "      <th>鹦鹉-预测置信度</th>\n",
       "    </tr>\n",
       "  </thead>\n",
       "  <tbody>\n",
       "    <tr>\n",
       "      <th>0</th>\n",
       "      <td>dataset_split/val/乌龟/0.jpg</td>\n",
       "      <td>0</td>\n",
       "      <td>乌龟</td>\n",
       "      <td>0.0</td>\n",
       "      <td>乌龟</td>\n",
       "      <td>5.0</td>\n",
       "      <td>金鱼</td>\n",
       "      <td>3.0</td>\n",
       "      <td>狗</td>\n",
       "      <td>1.0</td>\n",
       "      <td>0.999790</td>\n",
       "      <td>0.000013</td>\n",
       "      <td>5.688636e-07</td>\n",
       "      <td>0.000019</td>\n",
       "      <td>0.000015</td>\n",
       "      <td>0.000151</td>\n",
       "      <td>0.000012</td>\n",
       "    </tr>\n",
       "    <tr>\n",
       "      <th>1</th>\n",
       "      <td>dataset_split/val/乌龟/106.jpg</td>\n",
       "      <td>0</td>\n",
       "      <td>乌龟</td>\n",
       "      <td>0.0</td>\n",
       "      <td>乌龟</td>\n",
       "      <td>6.0</td>\n",
       "      <td>鹦鹉</td>\n",
       "      <td>5.0</td>\n",
       "      <td>金鱼</td>\n",
       "      <td>1.0</td>\n",
       "      <td>0.970566</td>\n",
       "      <td>0.000354</td>\n",
       "      <td>9.084896e-04</td>\n",
       "      <td>0.000648</td>\n",
       "      <td>0.001596</td>\n",
       "      <td>0.005402</td>\n",
       "      <td>0.020526</td>\n",
       "    </tr>\n",
       "    <tr>\n",
       "      <th>2</th>\n",
       "      <td>dataset_split/val/乌龟/115.jpg</td>\n",
       "      <td>0</td>\n",
       "      <td>乌龟</td>\n",
       "      <td>0.0</td>\n",
       "      <td>乌龟</td>\n",
       "      <td>5.0</td>\n",
       "      <td>金鱼</td>\n",
       "      <td>1.0</td>\n",
       "      <td>仓鼠</td>\n",
       "      <td>1.0</td>\n",
       "      <td>0.963122</td>\n",
       "      <td>0.004735</td>\n",
       "      <td>5.228490e-04</td>\n",
       "      <td>0.002156</td>\n",
       "      <td>0.000909</td>\n",
       "      <td>0.027109</td>\n",
       "      <td>0.001446</td>\n",
       "    </tr>\n",
       "    <tr>\n",
       "      <th>3</th>\n",
       "      <td>dataset_split/val/乌龟/123.jpg</td>\n",
       "      <td>0</td>\n",
       "      <td>乌龟</td>\n",
       "      <td>0.0</td>\n",
       "      <td>乌龟</td>\n",
       "      <td>5.0</td>\n",
       "      <td>金鱼</td>\n",
       "      <td>6.0</td>\n",
       "      <td>鹦鹉</td>\n",
       "      <td>1.0</td>\n",
       "      <td>0.991517</td>\n",
       "      <td>0.000895</td>\n",
       "      <td>2.685588e-04</td>\n",
       "      <td>0.000279</td>\n",
       "      <td>0.000088</td>\n",
       "      <td>0.003942</td>\n",
       "      <td>0.003010</td>\n",
       "    </tr>\n",
       "    <tr>\n",
       "      <th>4</th>\n",
       "      <td>dataset_split/val/乌龟/164.jpg</td>\n",
       "      <td>0</td>\n",
       "      <td>乌龟</td>\n",
       "      <td>0.0</td>\n",
       "      <td>乌龟</td>\n",
       "      <td>5.0</td>\n",
       "      <td>金鱼</td>\n",
       "      <td>3.0</td>\n",
       "      <td>狗</td>\n",
       "      <td>1.0</td>\n",
       "      <td>0.999598</td>\n",
       "      <td>0.000010</td>\n",
       "      <td>6.147398e-05</td>\n",
       "      <td>0.000088</td>\n",
       "      <td>0.000022</td>\n",
       "      <td>0.000191</td>\n",
       "      <td>0.000030</td>\n",
       "    </tr>\n",
       "  </tbody>\n",
       "</table>\n",
       "</div>"
      ],
      "text/plain": [
       "                           图像路径  标注类别ID 标注类别名称  top-1-预测ID top-1-预测名称  \\\n",
       "0    dataset_split/val/乌龟/0.jpg       0     乌龟         0.0         乌龟   \n",
       "1  dataset_split/val/乌龟/106.jpg       0     乌龟         0.0         乌龟   \n",
       "2  dataset_split/val/乌龟/115.jpg       0     乌龟         0.0         乌龟   \n",
       "3  dataset_split/val/乌龟/123.jpg       0     乌龟         0.0         乌龟   \n",
       "4  dataset_split/val/乌龟/164.jpg       0     乌龟         0.0         乌龟   \n",
       "\n",
       "   top-2-预测ID top-2-预测名称  top-3-预测ID top-3-预测名称  top-n预测正确  乌龟-预测置信度  \\\n",
       "0         5.0         金鱼         3.0          狗        1.0  0.999790   \n",
       "1         6.0         鹦鹉         5.0         金鱼        1.0  0.970566   \n",
       "2         5.0         金鱼         1.0         仓鼠        1.0  0.963122   \n",
       "3         5.0         金鱼         6.0         鹦鹉        1.0  0.991517   \n",
       "4         5.0         金鱼         3.0          狗        1.0  0.999598   \n",
       "\n",
       "   仓鼠-预测置信度      兔子-预测置信度   狗-预测置信度   猫-预测置信度  金鱼-预测置信度  鹦鹉-预测置信度  \n",
       "0  0.000013  5.688636e-07  0.000019  0.000015  0.000151  0.000012  \n",
       "1  0.000354  9.084896e-04  0.000648  0.001596  0.005402  0.020526  \n",
       "2  0.004735  5.228490e-04  0.002156  0.000909  0.027109  0.001446  \n",
       "3  0.000895  2.685588e-04  0.000279  0.000088  0.003942  0.003010  \n",
       "4  0.000010  6.147398e-05  0.000088  0.000022  0.000191  0.000030  "
      ]
     },
     "execution_count": 9,
     "metadata": {},
     "output_type": "execute_result"
    }
   ],
   "source": [
    "df.head()"
   ]
  },
  {
   "cell_type": "markdown",
   "id": "94b476e9-798c-4a20-9094-b47b07aad7ec",
   "metadata": {
    "tags": []
   },
   "source": [
    "## 绘制某一类别的PR曲线"
   ]
  },
  {
   "cell_type": "code",
   "execution_count": 25,
   "id": "91ee6bbb-a403-443d-a290-467c03b92f57",
   "metadata": {},
   "outputs": [],
   "source": [
    "specific_class = '乌龟'"
   ]
  },
  {
   "cell_type": "code",
   "execution_count": 26,
   "id": "ad90c989-c6ff-48b5-ac49-67e53f355126",
   "metadata": {},
   "outputs": [],
   "source": [
    "# 二分类标注\n",
    "y_test = (df['标注类别名称'] == specific_class)"
   ]
  },
  {
   "cell_type": "code",
   "execution_count": 27,
   "id": "67cb0ce7-3370-4a9e-832d-dd0edc025921",
   "metadata": {},
   "outputs": [],
   "source": [
    "# 二分类预测置信度\n",
    "y_score = df['乌龟-预测置信度']"
   ]
  },
  {
   "cell_type": "code",
   "execution_count": 28,
   "id": "f4f50410-3a2e-4078-8b4a-93ee5c9647cc",
   "metadata": {},
   "outputs": [],
   "source": [
    "from sklearn.metrics import precision_recall_curve\n",
    "from sklearn.metrics import average_precision_score\n",
    "precision, recall, thresholds = precision_recall_curve(y_test, y_score)\n",
    "AP = average_precision_score(y_test, y_score, average='weighted')"
   ]
  },
  {
   "cell_type": "code",
   "execution_count": 29,
   "id": "dbe3df81-ee1f-4221-ac80-4d14eda4d48a",
   "metadata": {},
   "outputs": [
    {
     "data": {
      "text/plain": [
       "0.9996794871794872"
      ]
     },
     "execution_count": 29,
     "metadata": {},
     "output_type": "execute_result"
    }
   ],
   "source": [
    "AP"
   ]
  },
  {
   "cell_type": "code",
   "execution_count": 30,
   "id": "6a57ace9-8f10-4068-a43a-479504368bef",
   "metadata": {},
   "outputs": [
    {
     "data": {
      "image/png": "[encoded data removed]",
      "text/plain": [
       "<Figure size 864x576 with 1 Axes>"
      ]
     },
     "metadata": {
      "needs_background": "light"
     },
     "output_type": "display_data"
    }
   ],
   "source": [
    "plt.figure(figsize=(12, 8))\n",
    "# 绘制 PR 曲线\n",
    "plt.plot(recall, precision, linewidth=5, label=specific_class)\n",
    "\n",
    "# 随机二分类模型\n",
    "# 阈值小，所有样本都被预测为正类，recall为1，precision为正样本百分比\n",
    "# 阈值大，所有样本都被预测为负类，recall为0，precision波动较大\n",
    "plt.plot([0, 0], [0, 1], ls=\"--\", c='.3', linewidth=3, label='随机模型')\n",
    "plt.plot([0, 1], [0.5, sum(y_test==1)/len(df)], ls=\"--\", c='.3', linewidth=3)\n",
    "\n",
    "plt.xlim([-0.01, 1.0])\n",
    "plt.ylim([0.0, 1.01])\n",
    "plt.rcParams['font.size'] = 22\n",
    "plt.title('{} PR曲线  AP:{:.3f}'.format(specific_class, AP))\n",
    "plt.xlabel('Recall')\n",
    "plt.ylabel('Precision')\n",
    "plt.legend()\n",
    "plt.grid(True)\n",
    "plt.savefig('{}-PR曲线.pdf'.format(specific_class), dpi=120, bbox_inches='tight')\n",
    "plt.show()"
   ]
  },
  {
   "cell_type": "markdown",
   "id": "32dc7160-b42c-4a67-b8b0-47da4ecf7081",
   "metadata": {},
   "source": [
    "## 绘制所有类别的ROC曲线"
   ]
  },
  {
   "cell_type": "code",
   "execution_count": 14,
   "id": "d9330f60-616f-4540-823b-c09c2342141a",
   "metadata": {},
   "outputs": [],
   "source": [
    "from matplotlib import colors as mcolors\n",
    "import random\n",
    "random.seed(124)\n",
    "colors = ['b', 'g', 'r', 'c', 'm', 'y', 'k', 'tab:blue', 'tab:orange', 'tab:green', 'tab:red', 'tab:purple', 'tab:brown', 'tab:pink', 'tab:gray', 'tab:olive', 'tab:cyan', 'black', 'indianred', 'brown', 'firebrick', 'maroon', 'darkred', 'red', 'sienna', 'chocolate', 'yellow', 'olivedrab', 'yellowgreen', 'darkolivegreen', 'forestgreen', 'limegreen', 'darkgreen', 'green', 'lime', 'seagreen', 'mediumseagreen', 'darkslategray', 'darkslategrey', 'teal', 'darkcyan', 'dodgerblue', 'navy', 'darkblue', 'mediumblue', 'blue', 'slateblue', 'darkslateblue', 'mediumslateblue', 'mediumpurple', 'rebeccapurple', 'blueviolet', 'indigo', 'darkorchid', 'darkviolet', 'mediumorchid', 'purple', 'darkmagenta', 'fuchsia', 'magenta', 'orchid', 'mediumvioletred', 'deeppink', 'hotpink']\n",
    "markers = [\".\",\",\",\"o\",\"v\",\"^\",\"<\",\">\",\"1\",\"2\",\"3\",\"4\",\"8\",\"s\",\"p\",\"P\",\"*\",\"h\",\"H\",\"+\",\"x\",\"X\",\"D\",\"d\",\"|\",\"_\",0,1,2,3,4,5,6,7,8,9,10,11]\n",
    "linestyle = ['--', '-.', '-']"
   ]
  },
  {
   "cell_type": "code",
   "execution_count": 15,
   "id": "eb2c245b-8bf0-4396-8b49-2f859b2983da",
   "metadata": {},
   "outputs": [],
   "source": [
    "def get_line_arg():\n",
    "    '''\n",
    "    随机产生一种绘图线型\n",
    "    '''\n",
    "    line_arg = {}\n",
    "    line_arg['color'] = random.choice(colors)\n",
    "    # line_arg['marker'] = random.choice(markers)\n",
    "    line_arg['linestyle'] = random.choice(linestyle)\n",
    "    line_arg['linewidth'] = random.randint(1, 4)\n",
    "    # line_arg['markersize'] = random.randint(3, 5)\n",
    "    return line_arg"
   ]
  },
  {
   "cell_type": "code",
   "execution_count": 16,
   "id": "b89e1747-0f80-4a12-a7af-029d487d1a1c",
   "metadata": {},
   "outputs": [
    {
     "data": {
      "text/plain": [
       "{'color': 'seagreen', 'linestyle': '-', 'linewidth': 1}"
      ]
     },
     "execution_count": 16,
     "metadata": {},
     "output_type": "execute_result"
    }
   ],
   "source": [
    "get_line_arg()"
   ]
  },
  {
   "cell_type": "code",
   "execution_count": 17,
   "id": "278c2dcb-f3cc-4990-a87a-560dca4e4cbf",
   "metadata": {},
   "outputs": [
    {
     "data": {
      "image/png": "[encoded data removed]",
      "text/plain": [
       "<Figure size 1008x720 with 1 Axes>"
      ]
     },
     "metadata": {
      "needs_background": "light"
     },
     "output_type": "display_data"
    }
   ],
   "source": [
    "plt.figure(figsize=(14, 10))\n",
    "plt.xlim([-0.01, 1.0])\n",
    "plt.ylim([0.0, 1.01])\n",
    "# plt.plot([0, 1], [0, 1],ls=\"--\", c='.3', linewidth=3, label='随机模型')\n",
    "plt.xlabel('Recall')\n",
    "plt.ylabel('Precision')\n",
    "plt.rcParams['font.size'] = 22\n",
    "plt.grid(True)\n",
    "\n",
    "ap_list = []\n",
    "for each_class in classes:\n",
    "    y_test = list((df['标注类别名称'] == each_class))\n",
    "    y_score = list(df['{}-预测置信度'.format(each_class)])\n",
    "    precision, recall, thresholds = precision_recall_curve(y_test, y_score)\n",
    "    AP = average_precision_score(y_test, y_score, average='weighted')\n",
    "    plt.plot(recall, precision, **get_line_arg(), label=each_class)\n",
    "    plt.legend()\n",
    "    ap_list.append(AP)\n",
    "\n",
    "plt.legend(loc='best', fontsize=12)\n",
    "plt.savefig('各类别PR曲线.pdf'.format(specific_class), dpi=120, bbox_inches='tight')\n",
    "plt.show()"
   ]
  },
  {
   "cell_type": "markdown",
   "id": "2289236e-64b3-4e5c-9b5c-e01671d64c11",
   "metadata": {},
   "source": [
    "## 将AP增加至`各类别准确率评估指标`表格中"
   ]
  },
  {
   "cell_type": "code",
   "execution_count": 18,
   "id": "7d0a0009-ea52-41c9-a26a-f68328d87a6c",
   "metadata": {},
   "outputs": [],
   "source": [
    "df_report = pd.read_csv('各类别准确率评估指标.csv')"
   ]
  },
  {
   "cell_type": "code",
   "execution_count": 19,
   "id": "9bc60ce0-8634-4484-bbbf-e2fc1aefaddf",
   "metadata": {},
   "outputs": [
    {
     "data": {
      "text/html": [
       "<div>\n",
       "<style scoped>\n",
       "    .dataframe tbody tr th:only-of-type {\n",
       "        vertical-align: middle;\n",
       "    }\n",
       "\n",
       "    .dataframe tbody tr th {\n",
       "        vertical-align: top;\n",
       "    }\n",
       "\n",
       "    .dataframe thead th {\n",
       "        text-align: right;\n",
       "    }\n",
       "</style>\n",
       "<table border=\"1\" class=\"dataframe\">\n",
       "  <thead>\n",
       "    <tr style=\"text-align: right;\">\n",
       "      <th></th>\n",
       "      <th>类别</th>\n",
       "      <th>precision</th>\n",
       "      <th>recall</th>\n",
       "      <th>f1-score</th>\n",
       "      <th>support</th>\n",
       "      <th>accuracy</th>\n",
       "    </tr>\n",
       "  </thead>\n",
       "  <tbody>\n",
       "    <tr>\n",
       "      <th>0</th>\n",
       "      <td>乌龟</td>\n",
       "      <td>1.000000</td>\n",
       "      <td>1.000000</td>\n",
       "      <td>1.000000</td>\n",
       "      <td>78.0</td>\n",
       "      <td>1.000000</td>\n",
       "    </tr>\n",
       "    <tr>\n",
       "      <th>1</th>\n",
       "      <td>仓鼠</td>\n",
       "      <td>0.943182</td>\n",
       "      <td>0.954023</td>\n",
       "      <td>0.948571</td>\n",
       "      <td>87.0</td>\n",
       "      <td>0.954023</td>\n",
       "    </tr>\n",
       "    <tr>\n",
       "      <th>2</th>\n",
       "      <td>兔子</td>\n",
       "      <td>0.964286</td>\n",
       "      <td>0.900000</td>\n",
       "      <td>0.931034</td>\n",
       "      <td>60.0</td>\n",
       "      <td>0.900000</td>\n",
       "    </tr>\n",
       "    <tr>\n",
       "      <th>3</th>\n",
       "      <td>狗</td>\n",
       "      <td>0.959596</td>\n",
       "      <td>0.989583</td>\n",
       "      <td>0.974359</td>\n",
       "      <td>96.0</td>\n",
       "      <td>0.989583</td>\n",
       "    </tr>\n",
       "    <tr>\n",
       "      <th>4</th>\n",
       "      <td>猫</td>\n",
       "      <td>0.967391</td>\n",
       "      <td>0.978022</td>\n",
       "      <td>0.972678</td>\n",
       "      <td>91.0</td>\n",
       "      <td>0.978022</td>\n",
       "    </tr>\n",
       "    <tr>\n",
       "      <th>5</th>\n",
       "      <td>金鱼</td>\n",
       "      <td>1.000000</td>\n",
       "      <td>0.970149</td>\n",
       "      <td>0.984848</td>\n",
       "      <td>67.0</td>\n",
       "      <td>0.970149</td>\n",
       "    </tr>\n",
       "    <tr>\n",
       "      <th>6</th>\n",
       "      <td>鹦鹉</td>\n",
       "      <td>0.979592</td>\n",
       "      <td>0.989691</td>\n",
       "      <td>0.984615</td>\n",
       "      <td>97.0</td>\n",
       "      <td>0.989691</td>\n",
       "    </tr>\n",
       "    <tr>\n",
       "      <th>7</th>\n",
       "      <td>macro avg</td>\n",
       "      <td>0.973435</td>\n",
       "      <td>0.968781</td>\n",
       "      <td>0.970872</td>\n",
       "      <td>576.0</td>\n",
       "      <td>0.968781</td>\n",
       "    </tr>\n",
       "    <tr>\n",
       "      <th>8</th>\n",
       "      <td>weighted avg</td>\n",
       "      <td>0.972375</td>\n",
       "      <td>0.972222</td>\n",
       "      <td>0.972105</td>\n",
       "      <td>576.0</td>\n",
       "      <td>0.972222</td>\n",
       "    </tr>\n",
       "  </tbody>\n",
       "</table>\n",
       "</div>"
      ],
      "text/plain": [
       "             类别  precision    recall  f1-score  support  accuracy\n",
       "0            乌龟   1.000000  1.000000  1.000000     78.0  1.000000\n",
       "1            仓鼠   0.943182  0.954023  0.948571     87.0  0.954023\n",
       "2            兔子   0.964286  0.900000  0.931034     60.0  0.900000\n",
       "3             狗   0.959596  0.989583  0.974359     96.0  0.989583\n",
       "4             猫   0.967391  0.978022  0.972678     91.0  0.978022\n",
       "5            金鱼   1.000000  0.970149  0.984848     67.0  0.970149\n",
       "6            鹦鹉   0.979592  0.989691  0.984615     97.0  0.989691\n",
       "7     macro avg   0.973435  0.968781  0.970872    576.0  0.968781\n",
       "8  weighted avg   0.972375  0.972222  0.972105    576.0  0.972222"
      ]
     },
     "execution_count": 19,
     "metadata": {},
     "output_type": "execute_result"
    }
   ],
   "source": [
    "df_report"
   ]
  },
  {
   "cell_type": "code",
   "execution_count": 20,
   "id": "17c00bf3-2ade-41e1-a147-55dbdab82169",
   "metadata": {},
   "outputs": [],
   "source": [
    "# 计算 AUC值 的 宏平均 和 加权平均\n",
    "macro_avg_auc = np.mean(ap_list)\n",
    "weighted_avg_auc = sum(ap_list * df_report.iloc[:-2]['support'] / len(df))"
   ]
  },
  {
   "cell_type": "code",
   "execution_count": 21,
   "id": "637cd797-18e3-470f-917a-5b38819eb601",
   "metadata": {},
   "outputs": [],
   "source": [
    "ap_list.append(macro_avg_auc)\n",
    "ap_list.append(weighted_avg_auc)"
   ]
  },
  {
   "cell_type": "code",
   "execution_count": 22,
   "id": "ac7cac95-53ef-4ffc-8ba6-073f8a5bae99",
   "metadata": {},
   "outputs": [],
   "source": [
    "df_report['AP'] = ap_list"
   ]
  },
  {
   "cell_type": "code",
   "execution_count": 23,
   "id": "888c6ecc-4c6b-4734-9938-a377e9c744fc",
   "metadata": {},
   "outputs": [
    {
     "data": {
      "text/html": [
       "<div>\n",
       "<style scoped>\n",
       "    .dataframe tbody tr th:only-of-type {\n",
       "        vertical-align: middle;\n",
       "    }\n",
       "\n",
       "    .dataframe tbody tr th {\n",
       "        vertical-align: top;\n",
       "    }\n",
       "\n",
       "    .dataframe thead th {\n",
       "        text-align: right;\n",
       "    }\n",
       "</style>\n",
       "<table border=\"1\" class=\"dataframe\">\n",
       "  <thead>\n",
       "    <tr style=\"text-align: right;\">\n",
       "      <th></th>\n",
       "      <th>类别</th>\n",
       "      <th>precision</th>\n",
       "      <th>recall</th>\n",
       "      <th>f1-score</th>\n",
       "      <th>support</th>\n",
       "      <th>accuracy</th>\n",
       "      <th>AP</th>\n",
       "    </tr>\n",
       "  </thead>\n",
       "  <tbody>\n",
       "    <tr>\n",
       "      <th>0</th>\n",
       "      <td>乌龟</td>\n",
       "      <td>1.000000</td>\n",
       "      <td>1.000000</td>\n",
       "      <td>1.000000</td>\n",
       "      <td>78.0</td>\n",
       "      <td>1.000000</td>\n",
       "      <td>0.999679</td>\n",
       "    </tr>\n",
       "    <tr>\n",
       "      <th>1</th>\n",
       "      <td>仓鼠</td>\n",
       "      <td>0.943182</td>\n",
       "      <td>0.954023</td>\n",
       "      <td>0.948571</td>\n",
       "      <td>87.0</td>\n",
       "      <td>0.954023</td>\n",
       "      <td>0.991208</td>\n",
       "    </tr>\n",
       "    <tr>\n",
       "      <th>2</th>\n",
       "      <td>兔子</td>\n",
       "      <td>0.964286</td>\n",
       "      <td>0.900000</td>\n",
       "      <td>0.931034</td>\n",
       "      <td>60.0</td>\n",
       "      <td>0.900000</td>\n",
       "      <td>0.956726</td>\n",
       "    </tr>\n",
       "    <tr>\n",
       "      <th>3</th>\n",
       "      <td>狗</td>\n",
       "      <td>0.959596</td>\n",
       "      <td>0.989583</td>\n",
       "      <td>0.974359</td>\n",
       "      <td>96.0</td>\n",
       "      <td>0.989583</td>\n",
       "      <td>0.983449</td>\n",
       "    </tr>\n",
       "    <tr>\n",
       "      <th>4</th>\n",
       "      <td>猫</td>\n",
       "      <td>0.967391</td>\n",
       "      <td>0.978022</td>\n",
       "      <td>0.972678</td>\n",
       "      <td>91.0</td>\n",
       "      <td>0.978022</td>\n",
       "      <td>0.997976</td>\n",
       "    </tr>\n",
       "    <tr>\n",
       "      <th>5</th>\n",
       "      <td>金鱼</td>\n",
       "      <td>1.000000</td>\n",
       "      <td>0.970149</td>\n",
       "      <td>0.984848</td>\n",
       "      <td>67.0</td>\n",
       "      <td>0.970149</td>\n",
       "      <td>0.997352</td>\n",
       "    </tr>\n",
       "    <tr>\n",
       "      <th>6</th>\n",
       "      <td>鹦鹉</td>\n",
       "      <td>0.979592</td>\n",
       "      <td>0.989691</td>\n",
       "      <td>0.984615</td>\n",
       "      <td>97.0</td>\n",
       "      <td>0.989691</td>\n",
       "      <td>0.997649</td>\n",
       "    </tr>\n",
       "    <tr>\n",
       "      <th>7</th>\n",
       "      <td>macro avg</td>\n",
       "      <td>0.973435</td>\n",
       "      <td>0.968781</td>\n",
       "      <td>0.970872</td>\n",
       "      <td>576.0</td>\n",
       "      <td>0.968781</td>\n",
       "      <td>0.989149</td>\n",
       "    </tr>\n",
       "    <tr>\n",
       "      <th>8</th>\n",
       "      <td>weighted avg</td>\n",
       "      <td>0.972375</td>\n",
       "      <td>0.972222</td>\n",
       "      <td>0.972105</td>\n",
       "      <td>576.0</td>\n",
       "      <td>0.972222</td>\n",
       "      <td>0.990339</td>\n",
       "    </tr>\n",
       "  </tbody>\n",
       "</table>\n",
       "</div>"
      ],
      "text/plain": [
       "             类别  precision    recall  f1-score  support  accuracy        AP\n",
       "0            乌龟   1.000000  1.000000  1.000000     78.0  1.000000  0.999679\n",
       "1            仓鼠   0.943182  0.954023  0.948571     87.0  0.954023  0.991208\n",
       "2            兔子   0.964286  0.900000  0.931034     60.0  0.900000  0.956726\n",
       "3             狗   0.959596  0.989583  0.974359     96.0  0.989583  0.983449\n",
       "4             猫   0.967391  0.978022  0.972678     91.0  0.978022  0.997976\n",
       "5            金鱼   1.000000  0.970149  0.984848     67.0  0.970149  0.997352\n",
       "6            鹦鹉   0.979592  0.989691  0.984615     97.0  0.989691  0.997649\n",
       "7     macro avg   0.973435  0.968781  0.970872    576.0  0.968781  0.989149\n",
       "8  weighted avg   0.972375  0.972222  0.972105    576.0  0.972222  0.990339"
      ]
     },
     "execution_count": 23,
     "metadata": {},
     "output_type": "execute_result"
    }
   ],
   "source": [
    "df_report"
   ]
  },
  {
   "cell_type": "code",
   "execution_count": 24,
   "id": "c547501e-9d4b-494b-ba60-92081aac6d48",
   "metadata": {},
   "outputs": [],
   "source": [
    "df_report.to_csv('各类别准确率评估指标.csv', index=False)"
   ]
  },
  {
   "cell_type": "code",
   "execution_count": null,
   "id": "bc7f245e-75bd-457f-ad77-f13a398b2def",
   "metadata": {},
   "outputs": [],
   "source": []
  }
 ],
 "metadata": {
  "kernelspec": {
   "display_name": "Python 3 (ipykernel)",
   "language": "python",
   "name": "python3"
  },
  "language_info": {
   "codemirror_mode": {
    "name": "ipython",
    "version": 3
   },
   "file_extension": ".py",
   "mimetype": "text/x-python",
   "name": "python",
   "nbconvert_exporter": "python",
   "pygments_lexer": "ipython3",
   "version": "3.7.10"
  }
 },
 "nbformat": 4,
 "nbformat_minor": 5
}
