{
 "cells": [
  {
   "cell_type": "markdown",
   "id": "34bf3342-b63b-4bb6-9a38-db6b6d396dcb",
   "metadata": {},
   "source": [
    "# 统计图像尺寸、比例分布"
   ]
  },
  {
   "cell_type": "markdown",
   "id": "115e44be-7f62-48b9-b7b1-2bf440904df8",
   "metadata": {},
   "source": [
    "## 导入工具包"
   ]
  },
  {
   "cell_type": "code",
   "execution_count": 1,
   "id": "d11c29c9-de4f-45a0-bdef-2f727be2b469",
   "metadata": {},
   "outputs": [],
   "source": [
    "import os\n",
    "import numpy as np\n",
    "import pandas as pd\n",
    "import cv2\n",
    "from tqdm import tqdm\n",
    "\n",
    "import matplotlib.pyplot as plt\n",
    "%matplotlib inline"
   ]
  },
  {
   "cell_type": "code",
   "execution_count": 2,
   "id": "5d0cd1cc-f5ed-43f8-a9a6-66bc23bdd3e8",
   "metadata": {},
   "outputs": [],
   "source": [
    "!unzip dataset_full.zip >> /dev/null"
   ]
  },
  {
   "cell_type": "markdown",
   "id": "df140610-cd22-4a2c-9a85-1559f32d8eb9",
   "metadata": {},
   "source": [
    "## 指定数据集路径"
   ]
  },
  {
   "cell_type": "code",
   "execution_count": 3,
   "id": "055e8a00-7726-4a0a-a002-5dc13c66dfaf",
   "metadata": {},
   "outputs": [
    {
     "data": {
      "text/plain": [
       "['狗', '猫', '乌龟', '金鱼', '仓鼠', '兔子', '鹦鹉']"
      ]
     },
     "execution_count": 3,
     "metadata": {},
     "output_type": "execute_result"
    }
   ],
   "source": [
    "# 指定数据集路径\n",
    "dataset_path = 'dataset'\n",
    "os.chdir(dataset_path)\n",
    "os.listdir()"
   ]
  },
  {
   "cell_type": "code",
   "execution_count": 4,
   "id": "77beae62-7183-4780-83d6-bedaf85c3539",
   "metadata": {},
   "outputs": [
    {
     "name": "stderr",
     "output_type": "stream",
     "text": [
      " 43%|████▎     | 3/7 [00:13<00:17,  4.35s/it]"
     ]
    },
    {
     "name": "stdout",
     "output_type": "stream",
     "text": [
      "金鱼/301.jpg 读取错误\n"
     ]
    },
    {
     "name": "stderr",
     "output_type": "stream",
     "text": [
      "100%|██████████| 7/7 [00:28<00:00,  4.10s/it]\n"
     ]
    }
   ],
   "source": [
    "df = pd.DataFrame()\n",
    "for fruit in tqdm(os.listdir()): # 遍历每个类别    \n",
    "    os.chdir(fruit)\n",
    "    for file in os.listdir(): # 遍历每张图像\n",
    "        try:\n",
    "            img = cv2.imread(file)\n",
    "            df = df.append({'类别':fruit, '文件名':file, '图像宽':img.shape[1], '图像高':img.shape[0]}, ignore_index=True)\n",
    "        except:\n",
    "            print(os.path.join(fruit, file), '读取错误')\n",
    "    os.chdir('../')\n",
    "os.chdir('../')"
   ]
  },
  {
   "cell_type": "code",
   "execution_count": 5,
   "id": "b87e2069-ac01-4269-8346-bf2f54abd475",
   "metadata": {},
   "outputs": [
    {
     "data": {
      "text/html": [
       "<div>\n",
       "<style scoped>\n",
       "    .dataframe tbody tr th:only-of-type {\n",
       "        vertical-align: middle;\n",
       "    }\n",
       "\n",
       "    .dataframe tbody tr th {\n",
       "        vertical-align: top;\n",
       "    }\n",
       "\n",
       "    .dataframe thead th {\n",
       "        text-align: right;\n",
       "    }\n",
       "</style>\n",
       "<table border=\"1\" class=\"dataframe\">\n",
       "  <thead>\n",
       "    <tr style=\"text-align: right;\">\n",
       "      <th></th>\n",
       "      <th>类别</th>\n",
       "      <th>文件名</th>\n",
       "      <th>图像宽</th>\n",
       "      <th>图像高</th>\n",
       "    </tr>\n",
       "  </thead>\n",
       "  <tbody>\n",
       "    <tr>\n",
       "      <th>0</th>\n",
       "      <td>狗</td>\n",
       "      <td>225.jpg</td>\n",
       "      <td>776.0</td>\n",
       "      <td>500.0</td>\n",
       "    </tr>\n",
       "    <tr>\n",
       "      <th>1</th>\n",
       "      <td>狗</td>\n",
       "      <td>29.jpg</td>\n",
       "      <td>500.0</td>\n",
       "      <td>891.0</td>\n",
       "    </tr>\n",
       "    <tr>\n",
       "      <th>2</th>\n",
       "      <td>狗</td>\n",
       "      <td>259.jpg</td>\n",
       "      <td>450.0</td>\n",
       "      <td>300.0</td>\n",
       "    </tr>\n",
       "    <tr>\n",
       "      <th>3</th>\n",
       "      <td>狗</td>\n",
       "      <td>288.jpg</td>\n",
       "      <td>500.0</td>\n",
       "      <td>666.0</td>\n",
       "    </tr>\n",
       "    <tr>\n",
       "      <th>4</th>\n",
       "      <td>狗</td>\n",
       "      <td>477.jpg</td>\n",
       "      <td>751.0</td>\n",
       "      <td>500.0</td>\n",
       "    </tr>\n",
       "    <tr>\n",
       "      <th>...</th>\n",
       "      <td>...</td>\n",
       "      <td>...</td>\n",
       "      <td>...</td>\n",
       "      <td>...</td>\n",
       "    </tr>\n",
       "    <tr>\n",
       "      <th>2887</th>\n",
       "      <td>鹦鹉</td>\n",
       "      <td>396.jpg</td>\n",
       "      <td>500.0</td>\n",
       "      <td>734.0</td>\n",
       "    </tr>\n",
       "    <tr>\n",
       "      <th>2888</th>\n",
       "      <td>鹦鹉</td>\n",
       "      <td>70.jpg</td>\n",
       "      <td>692.0</td>\n",
       "      <td>500.0</td>\n",
       "    </tr>\n",
       "    <tr>\n",
       "      <th>2889</th>\n",
       "      <td>鹦鹉</td>\n",
       "      <td>347.jpg</td>\n",
       "      <td>499.0</td>\n",
       "      <td>333.0</td>\n",
       "    </tr>\n",
       "    <tr>\n",
       "      <th>2890</th>\n",
       "      <td>鹦鹉</td>\n",
       "      <td>87.png</td>\n",
       "      <td>753.0</td>\n",
       "      <td>500.0</td>\n",
       "    </tr>\n",
       "    <tr>\n",
       "      <th>2891</th>\n",
       "      <td>鹦鹉</td>\n",
       "      <td>108.jpg</td>\n",
       "      <td>500.0</td>\n",
       "      <td>500.0</td>\n",
       "    </tr>\n",
       "  </tbody>\n",
       "</table>\n",
       "<p>2892 rows × 4 columns</p>\n",
       "</div>"
      ],
      "text/plain": [
       "      类别      文件名    图像宽    图像高\n",
       "0      狗  225.jpg  776.0  500.0\n",
       "1      狗   29.jpg  500.0  891.0\n",
       "2      狗  259.jpg  450.0  300.0\n",
       "3      狗  288.jpg  500.0  666.0\n",
       "4      狗  477.jpg  751.0  500.0\n",
       "...   ..      ...    ...    ...\n",
       "2887  鹦鹉  396.jpg  500.0  734.0\n",
       "2888  鹦鹉   70.jpg  692.0  500.0\n",
       "2889  鹦鹉  347.jpg  499.0  333.0\n",
       "2890  鹦鹉   87.png  753.0  500.0\n",
       "2891  鹦鹉  108.jpg  500.0  500.0\n",
       "\n",
       "[2892 rows x 4 columns]"
      ]
     },
     "execution_count": 5,
     "metadata": {},
     "output_type": "execute_result"
    }
   ],
   "source": [
    "df"
   ]
  },
  {
   "cell_type": "markdown",
   "id": "ed352515-e77c-400c-a439-e8a4dd6f0ccd",
   "metadata": {},
   "source": [
    "## 可视化图像尺寸分布"
   ]
  },
  {
   "cell_type": "code",
   "execution_count": 6,
   "id": "36c57c33-87f5-4d12-ae13-4a8f9c11ee9c",
   "metadata": {},
   "outputs": [
    {
     "data": {
      "image/png": "[encoded data removed]",
      "text/plain": [
       "<Figure size 720x720 with 1 Axes>"
      ]
     },
     "metadata": {
      "needs_background": "light"
     },
     "output_type": "display_data"
    }
   ],
   "source": [
    "from scipy.stats import gaussian_kde\n",
    "from matplotlib.colors import LogNorm\n",
    "\n",
    "x = df['图像宽']\n",
    "y = df['图像高']\n",
    "\n",
    "xy = np.vstack([x,y])\n",
    "z = gaussian_kde(xy)(xy)\n",
    "\n",
    "# Sort the points by density, so that the densest points are plotted last\n",
    "idx = z.argsort()\n",
    "x, y, z = x[idx], y[idx], z[idx]\n",
    "\n",
    "plt.figure(figsize=(10,10))\n",
    "# plt.figure(figsize=(12,12))\n",
    "plt.scatter(x, y, c=z,  s=5, cmap='Spectral_r')\n",
    "# plt.colorbar()\n",
    "# plt.xticks([])\n",
    "# plt.yticks([])\n",
    "\n",
    "plt.tick_params(labelsize=15)\n",
    "\n",
    "xy_max = max(max(df['图像宽']), max(df['图像高']))\n",
    "plt.xlim(xmin=0, xmax=2000)\n",
    "plt.ylim(ymin=0, ymax=2500)\n",
    "\n",
    "plt.ylabel('height', fontsize=25)\n",
    "plt.xlabel('width', fontsize=25)\n",
    "\n",
    "plt.savefig('图像尺寸分布.pdf', dpi=120, bbox_inches='tight')\n",
    "\n",
    "plt.show()"
   ]
  },
  {
   "cell_type": "code",
   "execution_count": null,
   "id": "6d9e1800-5edb-4af8-930d-e43863686daa",
   "metadata": {},
   "outputs": [],
   "source": []
  }
 ],
 "metadata": {
  "kernelspec": {
   "display_name": "Python 3 (ipykernel)",
   "language": "python",
   "name": "python3"
  },
  "language_info": {
   "codemirror_mode": {
    "name": "ipython",
    "version": 3
   },
   "file_extension": ".py",
   "mimetype": "text/x-python",
   "name": "python",
   "nbconvert_exporter": "python",
   "pygments_lexer": "ipython3",
   "version": "3.7.10"
  }
 },
 "nbformat": 4,
 "nbformat_minor": 5
}
